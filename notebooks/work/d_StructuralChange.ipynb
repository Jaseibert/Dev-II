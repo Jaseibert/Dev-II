{
 "cells": [
  {
   "cell_type": "markdown",
   "metadata": {},
   "source": [
    "# Structural Change\n",
    "**via very simple models** \n",
    "\n",
    "This might be for a notebook or a HW on structural change.\n",
    "Largely based on Matsuyama, Kiminori ([Structural Change](https://drive.google.com/open?id=1ARoSu2iEJQE-odRwSOaum3a7_aQv20kf) entry in New Palgrave)"
   ]
  },
  {
   "cell_type": "code",
   "execution_count": 1,
   "metadata": {},
   "outputs": [],
   "source": [
    "import numpy as np\n",
    "import matplotlib.pyplot as plt\n",
    "from ipywidgets import interact, fixed"
   ]
  },
  {
   "cell_type": "code",
   "execution_count": 2,
   "metadata": {},
   "outputs": [],
   "source": [
    "def F(L, A, alp=1/2):\n",
    "    return A*L**alp"
   ]
  },
  {
   "cell_type": "code",
   "execution_count": 3,
   "metadata": {},
   "outputs": [],
   "source": [
    "def FL(L,A, alp=1/2):\n",
    "    return alp*A*L**(alp-1)\n",
    "\n",
    "def APL(L,A, alp=1/2):\n",
    "    return A*L**(alp-1)"
   ]
  },
  {
   "cell_type": "code",
   "execution_count": 13,
   "metadata": {},
   "outputs": [],
   "source": [
    "def LE(A1=1,A2=1,p=1,alp=1/2):\n",
    "    lam = ((p*A2)/A1)**(1/(1-alp))\n",
    "    return 1/(1+lam)"
   ]
  },
  {
   "cell_type": "code",
   "execution_count": 14,
   "metadata": {},
   "outputs": [],
   "source": [
    "la = np.linspace(0.01,0.999,50)"
   ]
  },
  {
   "cell_type": "code",
   "execution_count": 15,
   "metadata": {},
   "outputs": [],
   "source": [
    "def plotsc(A1, A2, p_exog = True):\n",
    "    plt.figure(figsize=(10,6))\n",
    "    if p_exog:\n",
    "        leq = LE(A1,A2)\n",
    "        weq = FL(leq,A1)\n",
    "    else:\n",
    "        pass\n",
    "    \n",
    "    plt.plot(la, FL(la, A1))\n",
    "    plt.plot(la, APL(la, A1))\n",
    "    plt.plot(la, FL(1-la, A2))\n",
    "    plt.xlabel(r'$L_a$', fontsize=14)\n",
    "    plt.scatter(leq, weq)   \n",
    "    plt.grid()\n",
    "    plt.vlines(leq, ymin=0, ymax=weq, linestyle =\":\")\n",
    "    plt.hlines(weq,xmin=0, xmax=1, linestyle =\":\")\n",
    "    plt.xlim(0,1)\n",
    "    plt.ylim(0,3);"
   ]
  },
  {
   "cell_type": "code",
   "execution_count": 16,
   "metadata": {},
   "outputs": [
    {
     "data": {
      "image/png": "[encoded data removed]",
      "text/plain": [
       "<Figure size 720x432 with 1 Axes>"
      ]
     },
     "metadata": {
      "needs_background": "light"
     },
     "output_type": "display_data"
    }
   ],
   "source": [
    "plotsc(A1=1,A2=1)"
   ]
  },
  {
   "cell_type": "code",
   "execution_count": null,
   "metadata": {},
   "outputs": [],
   "source": []
  },
  {
   "cell_type": "code",
   "execution_count": 8,
   "metadata": {},
   "outputs": [],
   "source": [
    "def U(c1, c2, g, b):\n",
    "    return b*np.log(c1-g) + np.log(c2)"
   ]
  },
  {
   "cell_type": "code",
   "execution_count": 17,
   "metadata": {},
   "outputs": [
    {
     "data": {
      "application/vnd.jupyter.widget-view+json": {
       "model_id": "db2f09494a5e47018b03dc5c987e1ebf",
       "version_major": 2,
       "version_minor": 0
      },
      "text/plain": [
       "interactive(children=(FloatSlider(value=1.2000000000000002, description='A1', max=2.0, min=0.5), FloatSlider(v…"
      ]
     },
     "metadata": {},
     "output_type": "display_data"
    }
   ],
   "source": [
    "interact(plotsc, A1=(0.5,2,0.1),A2=(0.5,2,0.1));"
   ]
  },
  {
   "cell_type": "code",
   "execution_count": null,
   "metadata": {},
   "outputs": [],
   "source": []
  },
  {
   "cell_type": "markdown",
   "metadata": {},
   "source": [
    "### Exogenous price model\n",
    "Suppose preferences are now \n",
    "\n",
    "$$\n",
    "U(C_1, C_2) = C_1 + p+c_2\n",
    "$$\n",
    "\n",
    "In other words the relative price $p$ is set by world prices and the objective is to maximize income at world prices (country just follows its comparative advantage).\n",
    "\n",
    "Now $L_a$ increases with $\\frac{A_1}{A_2}$ so faster relative productivity growth in manufacturing induces more workers to abandon the traditional sector. This is similar to Lewis (1954) and Hansen and Prescott (2002)."
   ]
  },
  {
   "cell_type": "markdown",
   "metadata": {},
   "source": [
    "In an extreme example... $f$ is the same in both sectors\n",
    "\n",
    "$$\n",
    "A_1 \\cdot F_a^\\prime(L_a) = p \\cdot A_2 \\cdot F_m^\\prime (1-L_a)\n",
    "$$"
   ]
  },
  {
   "cell_type": "markdown",
   "metadata": {},
   "source": [
    "when $F(L) = A\\cdot L^{\\alpha}$ then $F^\\prime(L) = \\alpha L^{\\alpha-1}$"
   ]
  },
  {
   "cell_type": "markdown",
   "metadata": {},
   "source": [
    "$$ \n",
    "p \\cdot \\frac{F_m^\\prime (1-L_a)}{F_a^\\prime(L_a)} = \\frac{A_1}{A_2}                 \n",
    "$$\n",
    "\n",
    "which simplifies to "
   ]
  },
  {
   "cell_type": "markdown",
   "metadata": {},
   "source": [
    "$$ \n",
    " (1-L_a) = L_a \\Lambda   \\\\\n",
    " \\text{where } \\Lambda = \\left ( \\frac{p A_2}{A_1} \\right )^\\frac{1}{1-\\alpha} \n",
    "$$\n",
    "\n",
    "\n",
    "\n",
    "Allowing us to solve for:"
   ]
  },
  {
   "cell_type": "markdown",
   "metadata": {},
   "source": [
    "$$ \n",
    "L_a = \\frac{1}{1+\\Lambda}\n",
    "$$"
   ]
  },
  {
   "cell_type": "markdown",
   "metadata": {},
   "source": [
    "$L_a^*$ is decreasing in $p$ and $A_m/A_a$: increases in the relative price or productivity of manufacturing draws labor out of agriculture."
   ]
  },
  {
   "cell_type": "markdown",
   "metadata": {},
   "source": [
    "## Endogenous Price and Engels's Law"
   ]
  },
  {
   "cell_type": "markdown",
   "metadata": {},
   "source": [
    "Consumer demand\n",
    "\n",
    "$$\n",
    "U(C_1, C_2) = \\beta \\log (C_1 - \\gamma) + \\log (C_2)\n",
    "$$\n",
    "\n",
    "In the closed economy equilibrium the marginal products of labor equalize\n",
    "$$\n",
    "A_a \\cdot F_a^\\prime(L_a) = p \\cdot A_m \\cdot F_m^\\prime (1-L_a)\n",
    "$$\n",
    "\n",
    "where $p$ is the relative price of good 2.  "
   ]
  },
  {
   "cell_type": "markdown",
   "metadata": {},
   "source": [
    "Consumer optimum at:\n",
    "$$\n",
    "\\frac{MU_m}{MU_a} = \\frac{C_a-\\gamma}{\\beta \\cdot C_m}  = p\n",
    "$$"
   ]
  },
  {
   "cell_type": "markdown",
   "metadata": {},
   "source": [
    "Hence consumer demand will satisfy:\n",
    "$$\n",
    "C_a = \\gamma + \\beta \\cdot p \\cdot C_m\n",
    "$$"
   ]
  },
  {
   "cell_type": "markdown",
   "metadata": {},
   "source": [
    "Hence\n",
    "\n",
    "$$\n",
    "A_a \\cdot F_a(L_a) = \\gamma + \\beta \\cdot p \\cdot A_m \\cdot F_m(1-L_a)\n",
    "$$"
   ]
  },
  {
   "cell_type": "markdown",
   "metadata": {},
   "source": [
    "Substituting in from earlier condition for efficiency in production (i.e. using $p \\frac{A_m}{A_a} = \\frac{F_a^\\prime(L_a)}{F_m^\\prime(1-L_a)}$)\n",
    "\n",
    "$$\n",
    "F_a(L_a) - \\beta F_m(1-L_a) \\frac{F_a^\\prime (L_a)}{F_m^\\prime (1-L_a)} = \\frac{\\gamma}{A_a}\n",
    "$$"
   ]
  },
  {
   "cell_type": "markdown",
   "metadata": {},
   "source": [
    "This implicitly defines $L_a$ as a decreasing function of $A_a$ \n",
    "\n",
    "Hence as $A_a$ increases agriculture declines.. Engel's Law.\n",
    "\n",
    "Now productivity gains in agriculture \"push\" workers out of agriculture."
   ]
  },
  {
   "cell_type": "markdown",
   "metadata": {},
   "source": [
    "Visually we could plot $C_m$ vs $C_a$ with the latter on the vertical.  Straight line income expansion path starting from $\\gamma$ intercept on vertical.  Increases in $A_a$ push out PPF but in way that $L_a$ falls..."
   ]
  },
  {
   "cell_type": "markdown",
   "metadata": {},
   "source": [
    "#### incomplete"
   ]
  },
  {
   "cell_type": "markdown",
   "metadata": {},
   "source": [
    "Note that for our production function $F^\\prime(L_a) = \\alpha \\frac{F(L_a)}{L_a}$ and hence $\\frac{F_a^\\prime (L_a)}{F_m^\\prime (1-L_a)} =\\frac{F_a(L_a)}{F_m(1-L_a)} \\frac{1-L_a}{L_a}$"
   ]
  },
  {
   "cell_type": "markdown",
   "metadata": {},
   "source": [
    "$$\n",
    "F_a(L_a) \\cdot \\left ( 1- \\beta \\frac{(1-L_a)}{L_a} \\right ) = \\frac{\\gamma}{A_a}\n",
    "$$"
   ]
  },
  {
   "cell_type": "markdown",
   "metadata": {},
   "source": [
    "Note $A_m$ seems to drop out!?"
   ]
  },
  {
   "cell_type": "markdown",
   "metadata": {},
   "source": [
    "A different view is that productivity gains in industry 'pull' the workers out of agriculture."
   ]
  }
 ],
 "metadata": {
  "kernelspec": {
   "display_name": "Python 3",
   "language": "python",
   "name": "python3"
  },
  "language_info": {
   "codemirror_mode": {
    "name": "ipython",
    "version": 3
   },
   "file_extension": ".py",
   "mimetype": "text/x-python",
   "name": "python",
   "nbconvert_exporter": "python",
   "pygments_lexer": "ipython3",
   "version": "3.7.3"
  }
 },
 "nbformat": 4,
 "nbformat_minor": 4
}

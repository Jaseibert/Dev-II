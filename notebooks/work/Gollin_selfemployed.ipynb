{
  "cells": [
    {
      "cell_type": "markdown",
      "source": [
        "# Gollin's Nobody's Business but my own\n",
        "\n",
        "Lucas (1978) with self employment\n",
        "\n",
        ">Gollin, Douglas. 2008. “Nobody’s Business but My Own: Self-Employment and Small Enterprise in Economic Development.” *Journal of Monetary Economics* 55 (2): 219–33.\n"
      ],
      "metadata": {}
    },
    {
      "cell_type": "markdown",
      "source": [
        "$$y=xA_i[f(n,k)]^\\theta$$"
      ],
      "metadata": {}
    },
    {
      "cell_type": "markdown",
      "source": [
        "The self employed:\n",
        "\n$$y=xA_{SE} \\ f(n,k)^\\theta$$"
      ],
      "metadata": {}
    },
    {
      "cell_type": "markdown",
      "source": [
        "Assume if self employed need to devote fraction $\\alpha$ of labor to management, so have $(1-\\alpha)$ left to 'sell' to labor market (or own enterprise) at market wage $w$."
      ],
      "metadata": {}
    },
    {
      "cell_type": "markdown",
      "source": [
        "$$\\pi^{SE}(x) = \\max_{n,k} xA_{SE} \\ f(n,k)^\\theta - r k + w(\\alpha - n)$$\n",
        "\n$$0 \\le n \\le \\alpha < 1$$"
      ],
      "metadata": {}
    },
    {
      "cell_type": "markdown",
      "source": [
        "If a full-time manager then:\n",
        "\n$$\\pi^{FT}(x) = \\max_{n,k} x A \\ f(n,k)^\\theta - r k + w n$$"
      ],
      "metadata": {}
    },
    {
      "cell_type": "markdown",
      "source": [
        "Occupational choice problem:\n",
        "    \n",
        "$$ \\pi(x)= max (w, \\pi^{SE}(x), \\pi^{FT}(x) ) $$"
      ],
      "metadata": {}
    },
    {
      "cell_type": "markdown",
      "source": [
        "JC note:  Although self-employed have higher TFP they also face the constraint of only being able to devote fraction $\\alpha$ of their time.  Presumably this reflects some sort of constraint (e.g. need to generate cash on wage market to finance inputs into self-employment firm). \n",
        "\n",
        "Does this mean that 'self-employed firms' never hire labor in addition to their own?  Not clear in this model..\n",
        "\n",
        "Expected partition according to x\n",
        "\n",
        ">there will be two cutoff levels of entrepreneurial ability $z_1$ and\n",
        "$z_2$  such that everyone with a skill level below $z_1$  will work, and everyone with a skill level above $z_2$  will be a full-time manager, while individuals with intermediate levels of entrepreneurial ability (i.e. $x \\in (z_1, z_2)$ will be self-employed. For some parameter values, there may be no self-employed people in the economy.\n"
      ],
      "metadata": {}
    },
    {
      "cell_type": "markdown",
      "source": [
        "## Model assumptions\n",
        "Gollin's model is 'dynamic' (one steady state compared to another) and uses a CES form. \n",
        "\n",
        "The distribution of ability is assumed to be a beta distribution with a=b=18\n",
        "\nParameter $A$ is first normalized to 1 and $A_{SE}$ calibrated to 1.31. This suggestss that (p227) 'self-employed people use only 40 percent of their work time to perform physical production (e.g. sewing..) but are about one-third more productive in terms of TFP than firms of comparable size operated by full time managers...the productivity of small and micro firms is higher than that of larger firms'."
      ],
      "metadata": {}
    },
    {
      "cell_type": "code",
      "source": [
        "from scipy.stats import beta\n",
        "import matplotlib.pyplot as plt\n",
        "import numpy as np"
      ],
      "outputs": [],
      "execution_count": 11,
      "metadata": {}
    },
    {
      "cell_type": "code",
      "source": [
        "a = b = 18"
      ],
      "outputs": [],
      "execution_count": 12,
      "metadata": {}
    },
    {
      "cell_type": "code",
      "source": [
        "beta.stats(a, b)"
      ],
      "outputs": [
        {
          "output_type": "execute_result",
          "execution_count": 13,
          "data": {
            "text/plain": [
              "(array(0.5), array(0.006756756756756756))"
            ]
          },
          "metadata": {}
        }
      ],
      "execution_count": 13,
      "metadata": {}
    },
    {
      "cell_type": "code",
      "source": [
        "x = np.linspace(beta.ppf(0.001, a, b), beta.ppf(0.999, a, b), 100)\n",
        "plt.plot(x, beta.pdf(x, a, b),'r-', lw=5, alpha=0.6, label='beta pdf');"
      ],
      "outputs": [
        {
          "output_type": "display_data",
          "data": {
            "image/png": "[encoded data removed]",
            "text/plain": [
              "<matplotlib.figure.Figure at 0x1e4a7f1f240>"
            ]
          },
          "metadata": {}
        }
      ],
      "execution_count": 10,
      "metadata": {}
    },
    {
      "cell_type": "code",
      "source": [],
      "outputs": [],
      "execution_count": null,
      "metadata": {}
    }
  ],
  "metadata": {
    "kernelspec": {
      "name": "python3",
      "language": "python",
      "display_name": "Python 3"
    },
    "language_info": {
      "name": "python",
      "version": "3.6.1",
      "mimetype": "text/x-python",
      "codemirror_mode": {
        "name": "ipython",
        "version": 3
      },
      "pygments_lexer": "ipython3",
      "nbconvert_exporter": "python",
      "file_extension": ".py"
    },
    "kernel_info": {
      "name": "python3"
    }
  },
  "nbformat": 4,
  "nbformat_minor": 2
}
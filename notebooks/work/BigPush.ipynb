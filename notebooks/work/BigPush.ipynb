{
 "cells": [
  {
   "cell_type": "markdown",
   "metadata": {},
   "source": [
    "# The Big Push\n",
    "\n",
    "\n",
    "> Krugman, Paul R. 1997. Development, Geography, and Economic Theory. Vol. 6. MIT press.\n",
    "\n",
    "\n",
    "> Murphy, Kevin M., Andrei Shleifer, and Robert W. Vishny. 1989. “Industrialization and the Big Push.” Journal of Political Economy 97 (5): 1003–1026.\n",
    "\n",
    "> Rosenstein-Rodan, Paul N. 1943. “Problems of Industrialisation of Eastern and South-Eastern Europe.” The Economic Journal 53 (210/211): 202–211.\n",
    "\n"
   ]
  },
  {
   "cell_type": "markdown",
   "metadata": {},
   "source": [
    "Basic idea: with small domestic markets and costly trade, firms may not generate enough sales to make adoption of an\n",
    "increasing returns technology profitable, stalling modernization/industrialization, even though\n",
    "coordinated 'big push' industrialization of many sectors could be self-sustaining and\n",
    "Pareto superior"
   ]
  },
  {
   "cell_type": "markdown",
   "metadata": {},
   "source": [
    "Multiple Equilibria due to pecuniary externalities acoss firms from imperfect competition and high fixed costs."
   ]
  },
  {
   "cell_type": "markdown",
   "metadata": {},
   "source": [
    "\n",
    "$N$ sectors in the economy.  Constant-expenditure (Cobb-Douglas preferences) so that spend equal share of income on all goods.  Implies unit elastic demand.\n",
    "\n",
    "#### Traditional production\n",
    "\n",
    "Each sector has a competitive fringe of 'traditional' producers. Each traditional producer has constant marginal product\n",
    "\n",
    "$q_i = L_i$\n",
    "\n",
    "Market equilibrium price normalized to $p=1$.  Since $w = p \\mathit{MPL}$ and $\\mathit{MPL}=1$) also have $w=1$\n",
    "\n",
    "#### Modern production\n",
    "\n",
    "A single entrepreneur has access to IRS technology\n",
    "\n",
    "$$\n",
    "L_i = F - c \\cdot q_i\n",
    "$$\n",
    "\n",
    "with $c \\lt 1$ \n",
    "\n",
    "or\n",
    "\n",
    "$$\n",
    "q_i = -\\frac{F}{c} + \\frac{1}{c}\n",
    "$$\n",
    "\n",
    "Potential monopolist decides to 'modernize' or not.  \n",
    "\n",
    "Given presence of competitive fringe cannot raise price above $p=1$ without losing all business.  Given unit elastic demand, will not want to lower price either.  So sells at $p=1$ and sells $Q_1$"
   ]
  },
  {
   "cell_type": "code",
   "execution_count": null,
   "metadata": {},
   "outputs": [],
   "source": []
  },
  {
   "cell_type": "code",
   "execution_count": null,
   "metadata": {},
   "outputs": [],
   "source": []
  },
  {
   "cell_type": "code",
   "execution_count": null,
   "metadata": {},
   "outputs": [],
   "source": []
  },
  {
   "cell_type": "code",
   "execution_count": null,
   "metadata": {},
   "outputs": [],
   "source": []
  },
  {
   "cell_type": "code",
   "execution_count": 18,
   "metadata": {},
   "outputs": [],
   "source": [
    "import matplotlib.pyplot as plt\n",
    "import numpy as np\n",
    "import seaborn as sns"
   ]
  },
  {
   "cell_type": "code",
   "execution_count": 42,
   "metadata": {},
   "outputs": [],
   "source": [
    "plt.style.use('seaborn-colorblind')\n",
    "plt.rcParams[\"figure.figsize\"] = [7,7]\n",
    "plt.rcParams[\"axes.spines.right\"] = False\n",
    "plt.rcParams[\"axes.spines.top\"] = False\n",
    "plt.rcParams[\"font.size\"] = 18\n",
    "plt.rcParams['figure.figsize'] = (10, 6)\n",
    "plt.rcParams['axes.grid']=False"
   ]
  },
  {
   "cell_type": "code",
   "execution_count": 43,
   "metadata": {},
   "outputs": [],
   "source": [
    "N = 100\n",
    "Lbar = 100\n",
    "F = 40\n",
    "c = 0.3"
   ]
  },
  {
   "cell_type": "code",
   "execution_count": 91,
   "metadata": {},
   "outputs": [],
   "source": [
    "def QM(L, F=F, c=c):\n",
    "    return -F/c + (1/c)*L\n",
    "\n",
    "def QT(L):\n",
    "    return L"
   ]
  },
  {
   "cell_type": "code",
   "execution_count": 118,
   "metadata": {},
   "outputs": [],
   "source": [
    "def bigpush(F=F, c=c):\n",
    "    L = np.arange(Lbar)\n",
    "    plt.figure(figsize=(6,6))\n",
    "    plt.xlim(0,Lbar)\n",
    "    plt.ylim(0,1.5*Lbar)\n",
    "    plt.xticks([]), plt.yticks([])\n",
    "    plt.plot(L,L)\n",
    "    plt.plot(L, -F/c +(1/c)*L)\n",
    "    plt.vlines(70, ymin=0, ymax=70, linestyle=':' )\n",
    "    plt.hlines(70, xmin=0, xmax=70, linestyle=':' )\n",
    "    plt.text( 80, 140, 'Modern')\n",
    "    plt.text( 85, 78, 'Trad')\n",
    "    \n",
    "    ax = plt.gca()\n",
    "    ax.annotate(r\"$L$\", xy=(Lbar,0))\n",
    "    ax.annotate(r\"$\\frac{L}{N}$\", xy=(70,-0.1))"
   ]
  },
  {
   "cell_type": "code",
   "execution_count": 119,
   "metadata": {
    "scrolled": false
   },
   "outputs": [
    {
     "data": {
      "image/png": "[encoded data removed]",
      "text/plain": [
       "<Figure size 432x432 with 1 Axes>"
      ]
     },
     "metadata": {},
     "output_type": "display_data"
    }
   ],
   "source": [
    "bigpush()"
   ]
  },
  {
   "cell_type": "code",
   "execution_count": null,
   "metadata": {},
   "outputs": [],
   "source": []
  },
  {
   "cell_type": "code",
   "execution_count": null,
   "metadata": {},
   "outputs": [],
   "source": []
  }
 ],
 "metadata": {
  "kernelspec": {
   "display_name": "Python 3",
   "language": "python",
   "name": "python3"
  },
  "language_info": {
   "codemirror_mode": {
    "name": "ipython",
    "version": 3
   },
   "file_extension": ".py",
   "mimetype": "text/x-python",
   "name": "python",
   "nbconvert_exporter": "python",
   "pygments_lexer": "ipython3",
   "version": "3.6.7"
  }
 },
 "nbformat": 4,
 "nbformat_minor": 2
}

{
 "cells": [
  {
   "cell_type": "markdown",
   "metadata": {},
   "source": [
    "# Exam question solution"
   ]
  },
  {
   "cell_type": "markdown",
   "metadata": {},
   "source": [
    "Juan Valdez can earn  u = 10 as a farm worker.  Alternatively, if he can raise a lump-sum of I=60, he can start a risky coffee-growing project. Juan is risk-neutral. The project can ‘succeed’ and generate project return Xs =100 or it can ‘fail’ in which case it will generate Xf =0. The probability of success depends on Juan’s chosen level of ‘diligence.’  When he is diligent the project succeeds with probability p = 0.90 (for an expected gross return of 0.9*100+0.1*0= 90). If instead he chooses to be ‘non-diligent’ he diverts effort and/or financial resources to other projects that give him private benefits B=10 but this lowers the probability of success on his coffee project to q = 0.45 (for expected project returns of 45). "
   ]
  },
  {
   "cell_type": "markdown",
   "metadata": {},
   "source": [
    "a)\tShow that if Juan has 60 of his own funds he will start the project and be diligent. That is, show that he earns more from self-funding and being diligent than he does from either working as an unskilled worker or self-funding and being non-diligent (include the private benefits he would capture)."
   ]
  },
  {
   "cell_type": "markdown",
   "metadata": {},
   "source": [
    "$$\\max_{c_s, c_f}  p (X_s - c_s) + (1-p) (X_f - c_f) - I$$\n",
    "\n",
    "subject to the agent's participation (PC) constraint:\n",
    "\n",
    "$$ p c_s + (1-p) c_f \\geq \\bar u $$\n",
    "\n",
    "Without loss of generality in what follows we will set $\\bar u = 0$, so in the ideal of circumstances the government would be able to hire the agent away from their next best opportunity by paying them amount normalized to zero. \n",
    "\n",
    "and an incentive compatibility (IC) constraint:\n",
    "\n",
    "$$ p c_s + (1-p) c_f \\geq q c_s + (1-q) c_f + \\bar B $$ "
   ]
  },
  {
   "cell_type": "markdown",
   "metadata": {},
   "source": [
    "Note that we will at times write this problem compactly as:\n",
    "\n",
    "$$\\max_{c_s,c_f}  E(X|p) - E(c|p) - I$$\n",
    "\n",
    "s.t.\n",
    "\n",
    "$$E(c|p) \\geq \\bar u$$\n",
    "\n",
    "$$E(c|p) \\geq E(c|q) + \\bar B$$"
   ]
  },
  {
   "cell_type": "markdown",
   "metadata": {},
   "source": [
    "The IC constraint can be rewritten:\n",
    "    \n",
    "$$ c_s \\geq c_f + \\frac{\\bar B}{p-q}  $$     "
   ]
  },
  {
   "cell_type": "markdown",
   "metadata": {},
   "source": [
    "This can be satisfied at minimum cost when this constraint binds.  This tells us that in the event of project success the agent must receive a 'bonus' of $\\frac{\\bar B}{p-q}$ over what they get paid for failure outcomes.  This higher reward for success compared to failure is what induces the agent to want to be diligent and increase the probability of success from $q$ to $p$.  The contractual cost of this renumeration strategy is then $p c_s + (1-p) c_f$ or:\n",
    "\n",
    "$$E(c|p) = c_f + p \\frac{\\bar B}{\\Delta}$$\n",
    "\n",
    "where $\\Delta = p-q$which then means that the expected net benefit of the government project is:\n",
    "\n",
    "$$E(X|p) -I - c_f - p \\frac{\\bar B}{\\Delta}$$ "
   ]
  },
  {
   "cell_type": "markdown",
   "metadata": {},
   "source": [
    "Note that we earlier normalized the agent's next best employment opportunity to a renumeration of zero.  If the government could get local agents to competitively bid against each other for the government contract the agent's contract could be made to bind, but this in turn would require:\n",
    "\n",
    "$$c_f = - p \\frac{\\bar B}{\\Delta}+\\bar u$$\n",
    "$$c_s = (1-p) \\frac{\\bar B}{\\Delta}+\\bar u$$"
   ]
  },
  {
   "cell_type": "markdown",
   "metadata": {},
   "source": [
    "One way to think of this is that the agent is made to pay a fine of $- p \\frac{\\bar B}{\\Delta}$ when the project fails while if the project succeeds she earns a reward of $(1-p) \\frac{\\bar B}{\\Delta}$"
   ]
  },
  {
   "cell_type": "markdown",
   "metadata": {},
   "source": [
    "A possible problem with this type of project is that it may be difficult for the government to impose a penalty on agents when the project fails (e.g. the local contractor leaves town when the bridge collapses or the incidence of malaria cases surges).  One way to try to resolve that problem is by asking local contractors to post a **bond** but this solution may be hard to implement particularly in poor communities where the agents are poor to start with. \n",
    "\n",
    "The consequence of not being able to impose a fine when the project fails is that we have to now impose yet another constraint on the contract design problem, a **limited liability** constraint of the form\n",
    "\n",
    "$$c_f \\geq 0$$\n",
    "\n",
    "for example if the heaviest fine that can be imposed is to pay the local agent nothing when the project fails. The lowest cost way to renumerate the agent will be for this limited liability constraint and the incentive compatibility constraints to bind (to set the punishment as high as possible and the bonus as low as possible, compatible with maintaining incentives.  With $c_f =0$ an extra bonus must now be paid folowing success outcomes to contine to satisfy the incentive constraint. But this increases the expected cost of renumeration and reduces expected benefits from the project to:\n",
    "\n",
    "$$E(X|p) - I - p \\frac{\\bar B}{\\Delta}$$ \n"
   ]
  },
  {
   "cell_type": "markdown",
   "metadata": {},
   "source": [
    "The last term $p\\frac{\\bar B}{\\Delta}$ is sometimes referred to as an 'information rent' that must be paid to the agent that arises due to the asymmetric information problem."
   ]
  },
  {
   "cell_type": "markdown",
   "metadata": {},
   "source": [
    "## An Example"
   ]
  },
  {
   "cell_type": "code",
   "execution_count": 1,
   "metadata": {
    "collapsed": true
   },
   "outputs": [],
   "source": [
    "%matplotlib inline\n",
    "import matplotlib.pyplot as plt\n",
    "import numpy as np\n",
    "from ipywidgets import interact, fixed"
   ]
  },
  {
   "cell_type": "code",
   "execution_count": 2,
   "metadata": {
    "collapsed": true
   },
   "outputs": [],
   "source": [
    "def E(xs,xf,p):\n",
    "    \"\"\"Expectation operator \"\"\"\n",
    "    return p*xs + (1-p)*xf"
   ]
  },
  {
   "cell_type": "markdown",
   "metadata": {},
   "source": [
    "Consider a project with the following characteristics:"
   ]
  },
  {
   "cell_type": "code",
   "execution_count": 29,
   "metadata": {
    "collapsed": false
   },
   "outputs": [],
   "source": [
    "I = 60          # Lump sum investment to start project\n",
    "Xs = 100        # project success return\n",
    "Xf = 0          # project failure return\n",
    "p = 0.90        # probability of success when diligent\n",
    "q = 0.45        # probability of success when non-diligent\n",
    "EX = E(Xs,Xf,p) # Gross expected project return\n",
    "ubar = 10        # Consumer reservation income  \n",
    "B = 10          # private benefits to being non-diligent"
   ]
  },
  {
   "cell_type": "code",
   "execution_count": 30,
   "metadata": {
    "collapsed": false
   },
   "outputs": [
    {
     "name": "stdout",
     "output_type": "stream",
     "text": [
      "Expected returns Diligent (p): 90.0, Non-diligent (q): 45.0\n"
     ]
    }
   ],
   "source": [
    "print('Expected returns Diligent (p): {}, Non-diligent (q): {}'.format(E(Xs,Xf,p), E(Xs,Xf,q)))"
   ]
  },
  {
   "cell_type": "markdown",
   "metadata": {},
   "source": [
    "This project fails only 1 percent of the time when the agent is non-diligent (corrupt) but fails 50 percent of the time when they are non-diligent (corrupt).  We associate non-diligence with an opportunity to divert $\\bar B$ in funds to private uses."
   ]
  },
  {
   "cell_type": "markdown",
   "metadata": {},
   "source": [
    "As derived above the optimal renumeration contract calls for the agent to pay a big fine for failure and earn a positive reward for success:"
   ]
  },
  {
   "cell_type": "code",
   "execution_count": 31,
   "metadata": {
    "collapsed": true
   },
   "outputs": [],
   "source": [
    "cf = -p*B/(p-q) + ubar\n",
    "cs = (1-p)*B/(p-q) + ubar"
   ]
  },
  {
   "cell_type": "code",
   "execution_count": 32,
   "metadata": {
    "collapsed": false
   },
   "outputs": [
    {
     "name": "stdout",
     "output_type": "stream",
     "text": [
      "(c_f, c_s) =(-10.0 12.2)\n"
     ]
    }
   ],
   "source": [
    "print('(c_f, c_s) =({:5.1f}{:5.1f})'.format(cf, cs))"
   ]
  },
  {
   "cell_type": "code",
   "execution_count": 33,
   "metadata": {
    "collapsed": false
   },
   "outputs": [
    {
     "name": "stdout",
     "output_type": "stream",
     "text": [
      "consumer and bank expected payments:\n"
     ]
    },
    {
     "data": {
      "text/plain": [
       "(10.0, 20.0)"
      ]
     },
     "execution_count": 33,
     "metadata": {},
     "output_type": "execute_result"
    }
   ],
   "source": [
    "print('consumer and bank expected payments:')\n",
    "E(cs,cf,p), E(Xs-cs, Xf-cf,p) - I"
   ]
  },
  {
   "cell_type": "markdown",
   "metadata": {},
   "source": [
    "In expectation this covers the agent's opportunity cost of funds $\\bar u$. Since the incentive compatibility constraint is met (by construction)  when she is diligent:"
   ]
  },
  {
   "cell_type": "markdown",
   "metadata": {},
   "source": [
    "### Diagram "
   ]
  },
  {
   "cell_type": "code",
   "execution_count": 34,
   "metadata": {
    "collapsed": true
   },
   "outputs": [],
   "source": [
    "def zeroprofit(c):\n",
    "    return EX/p -((1-p)/p)*c - I/p\n",
    "\n",
    "def IC(c):\n",
    "    return c + B/(p-q)\n",
    "\n",
    "def BPC(c,ubar):\n",
    "    return ubar/p - ((1-p)/p)*c"
   ]
  },
  {
   "cell_type": "code",
   "execution_count": 35,
   "metadata": {
    "collapsed": false
   },
   "outputs": [],
   "source": [
    "cf_min, cf_max = -40,10\n",
    "c = np.arange(cf_min, cf_max)"
   ]
  },
  {
   "cell_type": "code",
   "execution_count": 36,
   "metadata": {
    "collapsed": false
   },
   "outputs": [
    {
     "data": {
      "image/png": "[encoded data removed]",
      "text/plain": [
       "<matplotlib.figure.Figure at 0xa3fa20>"
      ]
     },
     "metadata": {},
     "output_type": "display_data"
    }
   ],
   "source": [
    "ax = plt.subplot(111)\n",
    "ax.plot(c,zeroprofit(c), 'k--',label='zero $\\Pi$')\n",
    "ax.plot(c,IC(c), label='IC')\n",
    "ax.plot(c,BPC(c,ubar), label='PC',color='b')\n",
    "ax.plot(cf,cs,marker='o')\n",
    "ax.legend(loc='upper center')\n",
    "ax.set_xlabel('$c_f$'), ax.set_ylabel('$c_s$')\n",
    "ax.axvline(0, color='k')\n",
    "ax.set_ylim(0,50)\n",
    "ax.spines['right'].set_visible(False)\n",
    "ax.spines['top'].set_visible(False)\n",
    "ax.yaxis.set_ticks_position('left')\n",
    "ax.xaxis.set_ticks_position('bottom')"
   ]
  },
  {
   "cell_type": "markdown",
   "metadata": {},
   "source": [
    "The principal extracts"
   ]
  },
  {
   "cell_type": "code",
   "execution_count": 37,
   "metadata": {
    "collapsed": false
   },
   "outputs": [
    {
     "data": {
      "text/plain": [
       "20.0"
      ]
     },
     "execution_count": 37,
     "metadata": {},
     "output_type": "execute_result"
    }
   ],
   "source": [
    "EX - I - ubar"
   ]
  },
  {
   "cell_type": "markdown",
   "metadata": {},
   "source": [
    "Under this contract the agent will be diligent even though they cannot be observed.  Had they been non-diligent the principal would earn"
   ]
  },
  {
   "cell_type": "code",
   "execution_count": 38,
   "metadata": {
    "collapsed": false
   },
   "outputs": [
    {
     "data": {
      "text/plain": [
       "-15.0"
      ]
     },
     "execution_count": 38,
     "metadata": {},
     "output_type": "execute_result"
    }
   ],
   "source": [
    "q*(Xs- cs) + (1-q)*(Xf-cf) - I"
   ]
  },
  {
   "cell_type": "code",
   "execution_count": 39,
   "metadata": {
    "collapsed": false
   },
   "outputs": [
    {
     "data": {
      "text/plain": [
       "10.0"
      ]
     },
     "execution_count": 39,
     "metadata": {},
     "output_type": "execute_result"
    }
   ],
   "source": [
    "q*(cs) + (1-q)*(cf) +B"
   ]
  },
  {
   "cell_type": "markdown",
   "metadata": {},
   "source": [
    "### Limited Liability constraints"
   ]
  },
  {
   "cell_type": "markdown",
   "metadata": {},
   "source": [
    "In the example above the agent is asked to pay the principal in the event of failure ($c_f <0$). Suppose however that the agent cannot be made to pay the fine (e.g. they cannot post bond and run away before paying the fine).  \n",
    "\n",
    "Suppose in fact that the worst fine we can impose is that they pay $c_f = -5$.  \n",
    "\n",
    "When that is the case the cheapest way to satisfy the incentive compatibility constraint is to set:"
   ]
  },
  {
   "cell_type": "code",
   "execution_count": 40,
   "metadata": {
    "collapsed": true
   },
   "outputs": [],
   "source": [
    "cf = -5\n",
    "cs = -5 + B/(p-q)"
   ]
  },
  {
   "cell_type": "markdown",
   "metadata": {},
   "source": [
    "Which then means that in expectation the agent earns an information rent of "
   ]
  },
  {
   "cell_type": "code",
   "execution_count": 41,
   "metadata": {
    "collapsed": false
   },
   "outputs": [
    {
     "data": {
      "text/plain": [
       "15.0"
      ]
     },
     "execution_count": 41,
     "metadata": {},
     "output_type": "execute_result"
    }
   ],
   "source": [
    "E(cs,cf,p)"
   ]
  },
  {
   "cell_type": "markdown",
   "metadata": {},
   "source": [
    "This is above their reservation utility $bar u$ and this contract is therefore quite a bit more expensive to the principal.  Their net return is now\n",
    "\n",
    "$$E(X,p) - I - E(C,p)$$\n",
    "$$E(X,p) - I - p/(p-q)$$"
   ]
  },
  {
   "cell_type": "markdown",
   "metadata": {},
   "source": [
    "And the net benefits to the project are greatly reduced to:"
   ]
  },
  {
   "cell_type": "code",
   "execution_count": 44,
   "metadata": {
    "collapsed": false
   },
   "outputs": [
    {
     "data": {
      "text/plain": [
       "15.0"
      ]
     },
     "execution_count": 44,
     "metadata": {},
     "output_type": "execute_result"
    }
   ],
   "source": [
    "EX - I - E(cs,cf,p)"
   ]
  },
  {
   "cell_type": "markdown",
   "metadata": {},
   "source": [
    "The net benefits have been reduced by the heavy cost of incentive contract to keep the agent diligent or non-corrupt."
   ]
  },
  {
   "cell_type": "markdown",
   "metadata": {},
   "source": [
    "But this is still better than allowing the agent to be corrupt.  "
   ]
  },
  {
   "cell_type": "code",
   "execution_count": 43,
   "metadata": {
    "collapsed": false
   },
   "outputs": [
    {
     "data": {
      "text/plain": [
       "-20.0"
      ]
     },
     "execution_count": 43,
     "metadata": {},
     "output_type": "execute_result"
    }
   ],
   "source": [
    "q*(Xs-cs)+(1-q)*(Xf-cf) - I "
   ]
  },
  {
   "cell_type": "markdown",
   "metadata": {},
   "source": [
    "As we can see from the diagram above the principal can contract with agents who face limited liability but they earn less from agents where the LL constraint binds.  The limited liability constraint means the agent must earn a rent in excess of their reservation utility. \n",
    "\n",
    "Suppose the most we can take away from the agent is an amount $A$, equal for example to the amount of resources that can be seized or that they posted as bond or collateral.  \n",
    "\n",
    "The cheapest way to satisfy the IC is then:\n",
    "\n",
    "$c_f = -A$\n",
    "\n",
    "$c_s = -A + B/(p-q)$\n",
    "\n",
    "Which implies the agent's expected repayment is:\n",
    "\n",
    "$$E(c|p) = - A + \\frac{p B}{p-q}$$\n",
    "\n",
    "which will be more than their reservation wage $\\bar u$ as long as $A <  p  \\frac{B}{p-q} \\bar u$"
   ]
  },
  {
   "cell_type": "markdown",
   "metadata": {},
   "source": [
    "### Minimum collateral requirement\n",
    "\n",
    "What is the minimum collateral requirement below which the contract cannot both satisfy the incentive compatibility constraint and guarantee at least zero profits to the principal?\n",
    "\n",
    "Substitute the expected repayment under limited liability (above) into the principal's zero profit condition and solve for A (on the diagram above this is the $c_f$ at the intersection of the IC constraint and the principal's zero profit condition:\n",
    "\n",
    "$E(X|p) - E(c|p) - I = 0$\n",
    "\n",
    "$E(X|p) + A - \\frac{p \\dot B}{p-q}  - I = 0$\n",
    "\n",
    "$$\\underline{A} = \\frac{p B}{p-q} - [E(X|p) - I] $$"
   ]
  },
  {
   "cell_type": "markdown",
   "metadata": {},
   "source": [
    "For our running example this minimum collateral requirement is:"
   ]
  },
  {
   "cell_type": "code",
   "execution_count": 123,
   "metadata": {
    "collapsed": false
   },
   "outputs": [
    {
     "data": {
      "text/plain": [
       "1.1111111111111143"
      ]
     },
     "execution_count": 123,
     "metadata": {},
     "output_type": "execute_result"
    }
   ],
   "source": [
    "Amc = p*B/(p-q) - (EX - I)\n",
    "Amc"
   ]
  },
  {
   "cell_type": "markdown",
   "metadata": {},
   "source": [
    "This is an important expression.  This tells us that unless the agent can post a minimum bond or collateral of this amount then the principal cannot provide them with strong enough incentives for them to be diligent and still allow the principal to break even on the transaction. \n",
    "\n",
    "The take away lesson is that sometimes in asymmetric information situations one has to pay employees a rent (expected payment in excess of their next best option) in order to motivate their behavior.   It also means however that if the principal (employer, lender, etc) has a choice of agent to deal with they will prefer to deal with those who can post collateral."
   ]
  },
  {
   "cell_type": "markdown",
   "metadata": {},
   "source": [
    "## Monitoring by an intermediary"
   ]
  },
  {
   "cell_type": "markdown",
   "metadata": {},
   "source": [
    "Suppose an intermediary can 'monitor' the project.  By expending resources $m$ the monitor can reduce the agent's private benefits from non-diligence from $\\bar B$ to $\\bar B(m) < \\bar B$.\n",
    "\n",
    "For example the intermediar might visit the agent at random times to check up on the progress of the project.  This does not completely eliminate the scope for corruption but limits how much can be privately captured (perhaps because the agent now has to spend additional resources hiding her diversions of effort and funds).\n",
    "\n",
    "The obvious advantage of this is that it reduces the size of the information rent to:"
   ]
  },
  {
   "cell_type": "markdown",
   "metadata": {},
   "source": [
    "$$\\frac{\\bar B(m)}{\\Delta}$$"
   ]
  },
  {
   "cell_type": "markdown",
   "metadata": {},
   "source": [
    "And this in turn will reduce the total cost of renumerating the agent.  Intuitively, since the private benefit that can be captured has been directly reduced by monitoring the contract does not have to rely so much on costly bonus payments to motivate diligence.\n",
    "\n",
    "Now of course the Principal will have to pay the intermediary to compensate them for their expense $m$ and this will add to the cost. But so long as this extra cost is smaller than the reduction in the cost of renumerating the agent, net project benefits will improve. "
   ]
  },
  {
   "cell_type": "markdown",
   "metadata": {},
   "source": [
    "Under the assumption that Principal can specify and observer the intermediary's monitoring effort the net benefits from the project will now be:\n"
   ]
  },
  {
   "cell_type": "markdown",
   "metadata": {},
   "source": [
    "$$E(X|p) - I - p \\frac{\\bar B(m)}{\\Delta} - m$$ "
   ]
  },
  {
   "cell_type": "markdown",
   "metadata": {},
   "source": [
    "To take a concrete example suppose that the 'monitoring function' where given by:  \n",
    "\n",
    "$$\\bar B(m) = \\frac{\\bar B}{1+m}$$\n",
    "\n",
    "then the total expected cost of renumerating the agent and the monitoring intermediary would look as follows as a function of $m$:"
   ]
  },
  {
   "cell_type": "code",
   "execution_count": 12,
   "metadata": {
    "collapsed": false
   },
   "outputs": [
    {
     "data": {
      "text/plain": [
       "[<matplotlib.lines.Line2D at 0x759e8d0>]"
      ]
     },
     "execution_count": 12,
     "metadata": {},
     "output_type": "execute_result"
    },
    {
     "data": {
      "image/png": "[encoded data removed]",
      "text/plain": [
       "<matplotlib.figure.Figure at 0x7437048>"
      ]
     },
     "metadata": {},
     "output_type": "display_data"
    }
   ],
   "source": [
    "m = np.linspace(0,10,20)\n",
    "plt.plot(m, EX - I - p*(B/(1+m))/D - m)"
   ]
  },
  {
   "cell_type": "markdown",
   "metadata": {},
   "source": [
    "Which shows that over a range monitoring by the intermediary lowers the information rent that must be left with the agent faster than the cost of monitoring but eventually diminishing returns to this activity kick in (at somewhat less than 4 units of monitoring)."
   ]
  },
  {
   "cell_type": "markdown",
   "metadata": {},
   "source": [
    "### Who monitors the monitor? Two-layered moral hazard"
   ]
  },
  {
   "cell_type": "markdown",
   "metadata": {},
   "source": [
    "More likely the principal cannot directly contract on the intermediary's level of monitoring. The intermediary is supposed to spend resources $m$ to monitor the agent but if the government has no way to directly verify if this is happening or not, the intermediary may well be tempted to monitor at expense of zero but claim that it has monitored at expense $m$? \n",
    "\n",
    "The only way for the government to avoid this from happening is to put also put the intermediary on an incentive contract. The way to do this is to make the intermediary share in the agent's successess and failures. \n",
    "\n",
    "The Principal's contract design problem is to choose renumeration packages $(c_s,c_f)$ and $(w_s, w_f)$ to maximize:\n",
    "\n",
    "$$ E(X|p) - E(c|p) - E(m|p) - I $$\n",
    "\n",
    "subject to participation constraints for both the agent and the intermediary\n",
    "\n",
    "$$ E(c|p) \\geq 0$$ \n",
    "\n",
    "$$ E(w|p) \\geq 0$$ \n",
    "\n",
    "the (now modified) incentive compatibility constraint for the agent:\n",
    "\n",
    "$$E(c|p) \\geq E(c|q) + \\bar B(m)$$\n",
    "\n",
    "and an incentive compatibility constraint for the intermediary monitor:\n",
    "\n",
    "$$E(w|p) \\geq E(w|q) + m$$\n"
   ]
  },
  {
   "cell_type": "markdown",
   "metadata": {},
   "source": [
    "As was the case with the agent the cost of providing incentives to the intermediary monitor will depend on whether the intermediary can be made to lose money when the project fails or not.  \n",
    "\n",
    "Let's first consider the case when this is not the case. In that event the intermediary is paid $0$ when the project fails and \n",
    "\n",
    "$$w_s = \\frac{m}{\\Delta}$$\n",
    "\n",
    "when the project succeeds.  Note this is very much like the expression we derived for the bonus that had to be paid to the agent.  The expected cost of this intermediary renumeration contract (when $w_f =0$) is then:\n",
    "\n",
    "$$E(w|p) = p \\frac{m}{\\Delta}$$"
   ]
  },
  {
   "cell_type": "markdown",
   "metadata": {},
   "source": [
    "which is always larger than $m$ so long as $p > q$.  This suggest that the intermediary will also earn an information rent equal to \n",
    "\n",
    "$$E(w|p) - m = p \\frac{m}{\\Delta} - m > 0$$\n",
    "\n",
    "since the monitor has to pay expenses $m$ while monitoring."
   ]
  },
  {
   "cell_type": "markdown",
   "metadata": {},
   "source": [
    "If on the other hand we can assume that intermediary's can be made to bear liability for the projects that they monitor and fail then this rent can be eliminated.  Consider the case of competitive bidding for the intermediary monitor job.  Different firms will compete to offer their services until the expected return to being an intermediary monitor is equal to what they could earn in their next best occupation which we assume to be zero.  Then\n",
    "\n",
    "$$E(w|p) = m $$\n",
    "\n",
    "which implies\n",
    "\n",
    "$$w_f + p \\frac{m}{\\Delta}  = m $$\n",
    "\n",
    "or \n",
    "$$ w_f = -p \\frac{m}{\\Delta} + m$$\n",
    "\n",
    "(which then implies $w_s = (1-p)\\frac{m}{\\Delta} +m $)"
   ]
  },
  {
   "cell_type": "markdown",
   "metadata": {},
   "source": [
    "One way to think of this is that the principal asks the intermediary put up portion \n",
    "\n",
    "$$I_m = p \\frac{m}{\\Delta} - m$$\n",
    "\n",
    "of the total cost I of the project while the uninformed principal puts up the remainder \n",
    "\n",
    "$$I_u = I - I_m$$\n",
    "\n",
    "Then if the project fails the intermediary loses $I_m + m$ (their investment and their monitoring cost).  If the project succeeds the intermediary pockets net of their monitoring cost:\n",
    "\n",
    "$$w_s =  (1-p) \\frac{m}{\\Delta} - m$$\n",
    "\n",
    "For a zero profit expected return.  \n",
    "\n",
    "In this last competitive scenario the cost to the Principal of adding the intermediary to the contract is just the monitoring cost $m$ that must be compensated and not the larger information rent $p\\frac{m}{\\Delta}$ that we saw in the non-competitive case.  \n",
    "\n",
    "The diagram below depicts net benefits under the competitive (solid line) and non-competitive (dashed line) scenarios:"
   ]
  },
  {
   "cell_type": "code",
   "execution_count": 13,
   "metadata": {
    "collapsed": false
   },
   "outputs": [
    {
     "data": {
      "text/plain": [
       "[<matplotlib.lines.Line2D at 0x7469160>]"
      ]
     },
     "execution_count": 13,
     "metadata": {},
     "output_type": "execute_result"
    },
    {
     "data": {
      "image/png": "[encoded data removed]",
      "text/plain": [
       "<matplotlib.figure.Figure at 0x74690f0>"
      ]
     },
     "metadata": {},
     "output_type": "display_data"
    }
   ],
   "source": [
    "plt.plot(m, EX - I - p*(B/(1+m))/D - m)\n",
    "plt.plot(m, EX - I - p*(B/(1+m))/D - p*m/D,'r--')"
   ]
  },
  {
   "cell_type": "markdown",
   "metadata": {},
   "source": [
    "In the competitive scenario more monitoring is employed but this monitoring is effective at bringing down the total cost of implementation, leaving more net project benefits.  When the market for intermediaries is not competitive (and/or intermediaries are subject to limited liability constraints themselves) then monitoring still works (given our parameter assumptions in this example) but more of the project returns must be used for costly contractual bonus payments to motivate both the agent and the intermediary.  Less monitoring will be employed and the net project returns will be reduced"
   ]
  },
  {
   "cell_type": "markdown",
   "metadata": {},
   "source": [
    "Keep in mind that net project returns could be even larger if agents themselves could be made to post bond (credibly pay fines) in the event of project failure.  Then no monitoring at all would be required and the agent could be paid the reservation wage (of zero in this example) and maximum project returns of $E(X|p) - I$ or "
   ]
  },
  {
   "cell_type": "code",
   "execution_count": 14,
   "metadata": {
    "collapsed": false
   },
   "outputs": [
    {
     "data": {
      "text/plain": [
       "65.0"
      ]
     },
     "execution_count": 14,
     "metadata": {},
     "output_type": "execute_result"
    }
   ],
   "source": [
    "EX - I"
   ]
  },
  {
   "cell_type": "markdown",
   "metadata": {},
   "source": [
    "Could be achieved."
   ]
  },
  {
   "cell_type": "markdown",
   "metadata": {},
   "source": [
    "## Extensions"
   ]
  },
  {
   "cell_type": "markdown",
   "metadata": {},
   "source": [
    "This is the type of model that made Jean-Jacques Laffont and Jean Tirole famous.  See for example their book on *A Theory of Incentives in Procurement and Regulation*.  Jean Tirole powers much of his other important book $Modern Corporate Finance$ with similar double-moral hazard models as well (and come to think of it his famous *The Theory of Industrial Organization* features this type of structure as well.  Many problems of fiscal federalism with Central, State and Local goverments can also be modeled this way.\n",
    "\n",
    "Holmstrom and Tirole (1993) and Conning (1997) working with variations on an idea first introduced by Diamond (1984) note that if the intermediary monitors several independent (or at least not perfectly correlated) projects then the problem is like a multi-task principal - agent problem (except here between the principal and the intermediary) and it turns out that one can reduce the money that the intermediary has to put at risk in the event of failure by making their 'bonus' reward depend on success across several projects.  For example if the intermediary is monitoring two agents on projects with independent projects it may be cheaper to pay zero or low compensation to the intermediary when either or both projects fails but a healthy bonus if they both succeed, then to structure the two renumeration projects separately.\n",
    "\n",
    "A variation on the above idea is also one way to understand joint liability contracts and 'peer monitoring' although in this case the problem is a bit more tricky.  For example suppose that we had two projects and two agents and we engaged each agent to work on their own project (say builing bridges as described above) and also as a monitor of the other agent.  The challenge is to then design a contract that then induces the two agents to choose effort on their bridge building and monitoring of the other agent strategically.  This can be solved as a mechanism design problem: the principal determines the terms of a joint liability contract implement the desired levels of monitoring and project effort as the solution to a Nash-game played between the agents, guarding against the possibility that the agents might collude with each other against the principal. \n",
    "\n",
    "Depending on the assumptions one makes about monitoring technologies and credible enforcement within groups, one can derive several interesting results that are relevant to understanding group versus individual liability loans as well as questions as to whether it might be preferable to monitor projects subject to corruption with 'community' monitoring or outside monitoring.  \n",
    "\n",
    "Local community agents may have better information or monitoring technologies which might appear to make them better monitors, but they may fewer resources to put up as bond and/or they may be more likely to 'collude' against the outside principal.  "
   ]
  },
  {
   "cell_type": "code",
   "execution_count": null,
   "metadata": {
    "collapsed": true
   },
   "outputs": [],
   "source": []
  }
 ],
 "metadata": {
  "kernelspec": {
   "display_name": "Python 3",
   "language": "python",
   "name": "python3"
  },
  "language_info": {
   "codemirror_mode": {
    "name": "ipython",
    "version": 3
   },
   "file_extension": ".py",
   "mimetype": "text/x-python",
   "name": "python",
   "nbconvert_exporter": "python",
   "pygments_lexer": "ipython3",
   "version": "3.4.4"
  },
  "widgets": {
   "state": {},
   "version": "1.1.2"
  }
 },
 "nbformat": 4,
 "nbformat_minor": 0
}

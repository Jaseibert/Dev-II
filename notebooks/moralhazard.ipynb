{
 "cells": [
  {
   "cell_type": "markdown",
   "metadata": {
    "slideshow": {
     "slide_type": "slide"
    }
   },
   "source": [
    "# Risk Sharing and Moral Hazard"
   ]
  },
  {
   "cell_type": "code",
   "execution_count": 1,
   "metadata": {
    "slideshow": {
     "slide_type": "skip"
    }
   },
   "outputs": [],
   "source": [
    "%matplotlib inline\n",
    "import numpy as np\n",
    "import matplotlib.pyplot as plt\n",
    "from ipywidgets import interact, fixed"
   ]
  },
  {
   "cell_type": "markdown",
   "metadata": {
    "slideshow": {
     "slide_type": "slide"
    }
   },
   "source": [
    "# Risk-sharing review\n",
    "\n",
    "\n",
    "### A simple employment contract\n",
    "\n",
    "Employer hires worker to perform a task that has a stochastic outcome.  Project can either:\n",
    "- with probability $p$ succeeds to yield $X_s$\n",
    "- with probability $1-p$ fails to yield $X_f < X_S$\n",
    "\n",
    "There are two states of the world lebeled $s$ and $f$.  The expected return from the project is: $E(X|p) = p \\cdot X_s + (1-p) \\cdot X_f $"
   ]
  },
  {
   "cell_type": "markdown",
   "metadata": {
    "slideshow": {
     "slide_type": "subslide"
    }
   },
   "source": [
    "## Example\n",
    "\n",
    "$X_s = 100$, $X_f = 0$,  $p = 0.8$\n",
    "\n",
    "$E(X|p) = 0.8 \\cdot 100 + 0.2 \\cdot 0 = 80 $"
   ]
  },
  {
   "cell_type": "markdown",
   "metadata": {
    "slideshow": {
     "slide_type": "slide"
    }
   },
   "source": [
    "## Risk neutral employer and risk-averse agent\n",
    "\n",
    "Contract design problem: how to allocate claims to stochastic output between:\n",
    "\n",
    "- Principal (Employer):  $(X_s-c_s, X_f-c_f)$ \n",
    "- Agent (worker):  $(c_s, c_f)$\n",
    "\n",
    "The agent maximize the von-Neumann-Morgenstern expected utility:\n",
    "\n",
    "$Eu(c|p) = p u(c_s) + (1-p) u(c_f)$"
   ]
  },
  {
   "cell_type": "markdown",
   "metadata": {
    "slideshow": {
     "slide_type": "slide"
    }
   },
   "source": [
    "### Monopoly Contract design Example \n",
    "\n",
    "\n",
    "$$\\max_{c_s,c_f} \\ \\ E(X|p) - E(c|p)$$\n",
    "\n",
    "$$Eu(c|p) \\ge \\bar u$$\n",
    "\n",
    "Lagrangian:\n",
    "$$\\mathcal{L}(c_s, c_f,\\lambda) =  p \\cdot (X_s-c_s) + (1-p) \\cdot (X_f-c_f) \\\\\n",
    "-\\lambda \\left( \\bar u - p \\cdot  u(c_s) - (1-p) u(c_f) \\right)$$"
   ]
  },
  {
   "cell_type": "markdown",
   "metadata": {
    "slideshow": {
     "slide_type": "slide"
    }
   },
   "source": [
    "#### Monopoly FOC \n",
    "\n",
    "for state-contingent claim in state $s$:  $p \\cdot \\lambda \\cdot u'(c_s)-p =0 $\n",
    "\n",
    "Rearranging for $i=s,f$\n",
    "\n",
    "$$ \\frac{1}{u'(c_s)} = \\lambda  = \\frac{1}{u'(c_f)} $$"
   ]
  },
  {
   "cell_type": "markdown",
   "metadata": {
    "slideshow": {
     "slide_type": "slide"
    }
   },
   "source": [
    "This implies agent should be fully insured:  $c_s = c_f = c^*$"
   ]
  },
  {
   "cell_type": "markdown",
   "metadata": {
    "slideshow": {
     "slide_type": "subslide"
    }
   },
   "source": [
    "substitute $c_s = c_f = c^*$ into agent participation: \n",
    "\n",
    "If for example $u(c) = \\frac{c^{\\alpha}}{\\alpha}$ and $\\alpha=\\frac{1}{2}$ then $2\\sqrt{\\bar c^*} = \\bar u$"
   ]
  },
  {
   "cell_type": "markdown",
   "metadata": {
    "slideshow": {
     "slide_type": "fragment"
    }
   },
   "source": [
    "Monopoly contract pays worker a fixed wage determined by their reservation utility: \n",
    "$c^* = \\left (\\frac{\\bar u}{2} \\right )^2$"
   ]
  },
  {
   "cell_type": "markdown",
   "metadata": {
    "slideshow": {
     "slide_type": "fragment"
    }
   },
   "source": [
    "For example if the worker ran the project without insurance:\n",
    "\n",
    "$\\bar u = 0.8 \\cdot 2 \\sqrt(100) + 0.2 2 \\sqrt(0) = 16$ utils \n",
    "\n",
    "The monopoly insurer offers safe contract: $c_f=c_s=64$\n",
    "\n",
    "Firm then earns $X_s - c_s = 100 - 64 = 36$ or $X_f - c_f = 0 - 64 = -64$\n",
    "\n",
    "For expected return of $0.8 \\cdot 64 + 0.2 (-36) = 44$"
   ]
  },
  {
   "cell_type": "markdown",
   "metadata": {
    "slideshow": {
     "slide_type": "subslide"
    }
   },
   "source": [
    "### Competitive Contract design\n",
    "Employers compete for workers: \n",
    "\n",
    "$$\\max_{c_s, c_f}  p \\cdot  u(c_s) + (1-p) u(c_f)$$\n",
    "\n",
    "subject to then employer participation (zero-profit) constraint:\n",
    "\n",
    "$$p \\cdot (X_s-c_s) + (1-p) \\cdot (X_f-c_f) \\geq 0$$"
   ]
  },
  {
   "cell_type": "markdown",
   "metadata": {
    "slideshow": {
     "slide_type": "subslide"
    }
   },
   "source": [
    "### Competitive Contract design Example \n",
    "\n",
    "$$\\mathcal{L}(c_s, c_f,\\lambda) =  p \\cdot  u(c_s) + (1-p) u(c_f) \\\\\n",
    "+\\lambda \\left( p \\cdot (X_s-c_s) - (1-p) \\cdot (X_f-c_f) \\right)$$\n",
    "\n",
    "Same FOC as above imply:  $c_s = c_f$\n",
    "\n",
    "substitute this now into employer participation to get:   $c_f=c_s = E(X|p)$\n",
    "\n",
    "In our example agent is paid  $c_f=c_s = 80$\n",
    "\n",
    "And firm earns $(X_s-c_s)=100-80 = 20$ and $(X_f-c_f)= 0 - 80 = -80$ for expected return of zero."
   ]
  },
  {
   "cell_type": "markdown",
   "metadata": {
    "slideshow": {
     "slide_type": "subslide"
    }
   },
   "source": [
    "### Competitive financing\n",
    "\n",
    "A financial contract is modeled just like this last example (with a slight rewriting and reinterpretation of the Bank (i.e. the principal's) participation constraint).  \n",
    "\n",
    "Suppose agent has access to the same stochastic project above but can only get it started with lump sum investment $I$.\n",
    "\n",
    "$$\\max_{c_s, c_f}  p \\cdot  u(c_s) + (1-p) u(c_f)$$\n",
    "\n",
    "subject to then employer participation (zero-profit) constraint:\n",
    "\n",
    "$$p \\cdot (X_s-c_s) + (1-p) \\cdot (X_f-c_f) \\geq I(1+r)$$\n",
    "\n",
    "Exactly the problem above only that the participation constraint includes a term to cover the opportunity cost of funding."
   ]
  },
  {
   "cell_type": "markdown",
   "metadata": {
    "slideshow": {
     "slide_type": "subslide"
    }
   },
   "source": [
    "Lagrangian: \n",
    "\n",
    "$$\\mathcal{L}(c_s, c_f,\\lambda) =  p \\cdot  u(c_s) + (1-p) u(c_f) \\\\\n",
    "+\\lambda \\left( I(1+r) - p \\cdot (X_s-c_s) - (1-p) \\cdot (X_f-c_f) \\right)$$\n",
    "\n",
    "FOC again imply contract keeps agent's consumption steady at:  $c_s = c_f = c^*$\n",
    "\n",
    "Bank just breaks even: $E(X|p) - E(c|p) = I(1+r)$"
   ]
  },
  {
   "cell_type": "markdown",
   "metadata": {
    "slideshow": {
     "slide_type": "subslide"
    }
   },
   "source": [
    "**Example:  Suppose loan finance costs $I(1+r) = 70$**\n",
    "\n",
    "$E(c|p) = E(X|p) - I(1+r)$\n",
    "\n",
    "$E(c|p) = 80 - 70 = 10$\n"
   ]
  },
  {
   "cell_type": "markdown",
   "metadata": {
    "slideshow": {
     "slide_type": "fragment"
    }
   },
   "source": [
    "Can think of contract as a loan with state-contingent repayments:\n",
    "\n",
    "$X_s - c_s - I(1+r) = 100 - 10 - 70 = 20$\n",
    "\n",
    "$X_f - c_f - I(1+r) =   0 - 10 - 70 = -80$"
   ]
  },
  {
   "cell_type": "markdown",
   "metadata": {
    "slideshow": {
     "slide_type": "fragment"
    }
   },
   "source": [
    "Bank breaks even: $0.8 \\cdot 20 + 0.2 \\cdot (-80) = 0$"
   ]
  },
  {
   "cell_type": "markdown",
   "metadata": {
    "slideshow": {
     "slide_type": "subslide"
    }
   },
   "source": [
    "Can extend to many states of the world:\n",
    "\n",
    "$$E(X|e) = \\sum_i {X_i \\cdot f(X_i|e)}$$"
   ]
  },
  {
   "cell_type": "code",
   "execution_count": 2,
   "metadata": {
    "slideshow": {
     "slide_type": "skip"
    }
   },
   "outputs": [],
   "source": [
    "alpha = 0.25"
   ]
  },
  {
   "cell_type": "code",
   "execution_count": 3,
   "metadata": {
    "slideshow": {
     "slide_type": "skip"
    }
   },
   "outputs": [],
   "source": [
    "def u(c, alpha=alpha):\n",
    "    return (1/alpha)*c**alpha\n",
    "\n",
    "def E(x,p):\n",
    "    return p*x[1] + (1-p)*x[0]\n",
    "\n",
    "def EU(c, p):\n",
    "    return p*u(c[1]) + (1-p)*u(c[0])\n",
    "\n",
    "def budgetc(c0, p, x):\n",
    "    return E(x,p)/p - ((1-p)/p)*c0\n",
    "\n",
    "def indif(c0, p, ubar):\n",
    "    return (alpha*(ubar-(1-p)*u(c0))/p)**(1/alpha)\n",
    "\n",
    "def IC(c0,p,q,B):\n",
    "    '''incentive compatibility line'''\n",
    "    return (alpha*(u(c0)+B/(p-q)))**(1/alpha)"
   ]
  },
  {
   "cell_type": "code",
   "execution_count": 4,
   "metadata": {
    "slideshow": {
     "slide_type": "skip"
    }
   },
   "outputs": [],
   "source": [
    "def Bopt(p,x):\n",
    "    '''Bank profit maximum'''\n",
    "    return (alpha*EU(x,p))**(1/alpha)\n",
    "\n",
    "def Copt(p,x):\n",
    "    '''Consumer utility maximum'''\n",
    "    return E(x,p)\n",
    "    \n",
    "    "
   ]
  },
  {
   "cell_type": "code",
   "execution_count": 5,
   "metadata": {
    "slideshow": {
     "slide_type": "skip"
    }
   },
   "outputs": [],
   "source": [
    "x = [15,90]\n",
    "p = 0.6"
   ]
  },
  {
   "cell_type": "code",
   "execution_count": 6,
   "metadata": {
    "slideshow": {
     "slide_type": "skip"
    }
   },
   "outputs": [
    {
     "data": {
      "text/plain": [
       "9.797958971132712"
      ]
     },
     "execution_count": 6,
     "metadata": {},
     "output_type": "execute_result"
    }
   ],
   "source": [
    "EU([36,36],p)"
   ]
  },
  {
   "cell_type": "markdown",
   "metadata": {
    "slideshow": {
     "slide_type": "slide"
    }
   },
   "source": [
    "# Moral Hazard or Hidden Actions\n",
    "\n",
    "or Hidden Actions model\n",
    "\n",
    "\n",
    "### Risk sharing vs. incentives\n",
    "\n",
    "Stiglitz (1974), Holmstrom (1979), Grossman and Hart (1983)\n",
    "\n",
    "\n",
    "Agent's private benefit from avoiding diligence or effort is B (extra disutility from high vs. low effort).  \n",
    "\n",
    "Effort is non-contractible and $B$ cannot be observed/seized. Effort-contingent contracts not possible.\n",
    "\n",
    "Only outcone-contingent contracts can be used. "
   ]
  },
  {
   "cell_type": "markdown",
   "metadata": {
    "slideshow": {
     "slide_type": "slide"
    }
   },
   "source": [
    "## Hidden actions\n",
    "\n",
    "Now agent's unobserved (or more to the point non-verifiable) effort levels determines success probability: \n",
    " - High  $e_H$  (probability of success $p$).\n",
    " - Low $e_L$ (probability of success $q$).  \n",
    " - Can no longer offer earlier risk-sharing contract ($c=10$) as cnnot be sure success probability is $p$\n",
    "  \n",
    " Example $q=0.6$ versus $p=0.8$\n",
    "     - E(X|p) - E(c|p) - I(1+r) =  80-10-70 = 0 (bank breaks even)\n",
    "     - E(X|q) - E(c|q) - I(1+r) =  60-10-70 = -20 (bank loses money)"
   ]
  },
  {
   "cell_type": "markdown",
   "metadata": {
    "slideshow": {
     "slide_type": "slide"
    }
   },
   "source": [
    "### On the other hand full-residual claimancy contract imposes too much risk\n",
    " \n",
    " - Full residual claimant when fixed repayment $I(1+r)$\n",
    "     - $c_s = 100-70 = 30$\n",
    "     - $c_f = -70 = -70$\n",
    "     - $0.8 (30) + 0.2(-70) = 24 - 14 = 10$\n",
    "\n",
    "- But this imposes a lot of risk  (actually here not even defined since u(-70) is 'catastrophic')\n",
    " \n",
    "- Need to find balance between risk sharing and incentives"
   ]
  },
  {
   "cell_type": "markdown",
   "metadata": {
    "slideshow": {
     "slide_type": "slide"
    }
   },
   "source": [
    "## Incentive compatibility constraint:\n",
    "\n",
    "$$EU(c|p) \\geq EU(c|q) + B$$\n",
    "\n",
    "In 2 outcome case can be re-arranged to:\n",
    "\n",
    "$$u(c_1) \\geq u(c_0) + \\frac{B}{p-q}$$"
   ]
  },
  {
   "cell_type": "markdown",
   "metadata": {
    "slideshow": {
     "slide_type": "skip"
    }
   },
   "source": [
    "## Interactive indifference curve diagram"
   ]
  },
  {
   "cell_type": "code",
   "execution_count": 7,
   "metadata": {
    "slideshow": {
     "slide_type": "skip"
    }
   },
   "outputs": [],
   "source": [
    "p = 0.5\n",
    "q = 0.4\n",
    "cmax = 100\n",
    "B = 1.5"
   ]
  },
  {
   "cell_type": "code",
   "execution_count": 8,
   "metadata": {
    "slideshow": {
     "slide_type": "skip"
    }
   },
   "outputs": [
    {
     "data": {
      "text/plain": [
       "595.1534438537282"
      ]
     },
     "execution_count": 8,
     "metadata": {},
     "output_type": "execute_result"
    }
   ],
   "source": [
    "IC(2,p,q,B)"
   ]
  },
  {
   "cell_type": "code",
   "execution_count": 9,
   "metadata": {
    "slideshow": {
     "slide_type": "skip"
    }
   },
   "outputs": [],
   "source": [
    "def consume_plot(p,q,B,ic=False):\n",
    "    c0 = np.linspace(0.1,200,num=100)\n",
    "    \n",
    "    #bank optimum\n",
    "    c0e = Bopt(p,x)\n",
    "    c1e = c0e\n",
    "    uebar = EU([c0e,c1e],p)\n",
    "    idfc = indif(c0, p, uebar)\n",
    "    budg = budgetc(c0, p, [c0e,c1e])\n",
    "    \n",
    "    #consumer optimum\n",
    "    c0ee = Copt(p,x)\n",
    "    c1ee = c0ee\n",
    "    uemax = EU([c0ee,c1ee],p)\n",
    "    idfcmax = indif(c0, p, uemax)\n",
    "    zerop = budgetc(c0, p, x)\n",
    "    icline = IC(c0,p,q,B)\n",
    "       \n",
    "    \n",
    "    fig, ax = plt.subplots(figsize=(10,10))\n",
    "    if ic:\n",
    "        ax.plot(c0,icline)\n",
    "    ax.plot(c0, budg, lw=2.5)\n",
    "    ax.plot(c0, zerop, lw=2.5)\n",
    "    ax.plot(c0, idfc, lw=2.5)\n",
    "    #ax.plot(c0, idfcmax, lw=2.5)\n",
    "    ax.plot(c0,c0)\n",
    "    #ax.vlines(c0e,0,c2e, linestyles=\"dashed\")\n",
    "    #ax.hlines(c1e,0,c1e, linestyles=\"dashed\")\n",
    "    ax.plot(c0e,c1e,'ob')\n",
    "    ax.plot(c0ee,c1ee,'ob')\n",
    "    ax.plot(x[0],x[1],'ob')\n",
    "    ax.set_xlim(0, 100)\n",
    "    ax.set_ylim(0, 100)\n",
    "    ax.set_xlabel(r'$c_0$', fontsize=16)\n",
    "    ax.set_ylabel('$c_1$', fontsize=16)\n",
    "    ax.spines['right'].set_visible(False)\n",
    "    ax.spines['top'].set_visible(False)\n",
    "    ax.grid()\n",
    "    plt.show()"
   ]
  },
  {
   "cell_type": "code",
   "execution_count": 10,
   "metadata": {
    "slideshow": {
     "slide_type": "slide"
    }
   },
   "outputs": [
    {
     "data": {
      "application/vnd.jupyter.widget-view+json": {
       "model_id": "7e19b303b6c74ec99a5ad583e7c71956",
       "version_major": 2,
       "version_minor": 0
      },
      "text/plain": [
       "interactive(children=(FloatSlider(value=0.30000000000000004, description='q', max=0.5, min=0.1, step=0.01), Fl…"
      ]
     },
     "metadata": {},
     "output_type": "display_data"
    }
   ],
   "source": [
    "interact(consume_plot,p=fixed(0.5),q=(0.1,0.5,0.01),B=(0,3,0.1));"
   ]
  },
  {
   "cell_type": "markdown",
   "metadata": {
    "slideshow": {
     "slide_type": "slide"
    }
   },
   "source": [
    "If we set this up and solve it as a Lagrangean (loosely following Holmstrom, 1979) we get a condition like this:"
   ]
  },
  {
   "cell_type": "markdown",
   "metadata": {
    "slideshow": {
     "slide_type": "fragment"
    }
   },
   "source": [
    "$$\\frac{1}{u'(c_i)} = \\lambda + \\mu \\cdot \n",
    "\\left [ {1-\\frac{f(x_i,e_L)}{f(x_i,e_H)}} \\right ]  \\text{ }\\forall i\n",
    "$$"
   ]
  },
  {
   "cell_type": "markdown",
   "metadata": {
    "slideshow": {
     "slide_type": "subslide"
    }
   },
   "source": [
    "In our two outcome case $p=f(x_1|e_H)$ and $q=f(x_1|e_L)$ and this becomes:\n",
    "\n",
    "$$\\frac{1}{u'(c_1)} = \\lambda + \\mu \\cdot \n",
    "\\left [ {1-\\frac{q}{p}} \\right ]  \n",
    "$$\n",
    "\n",
    "$$\\frac{1}{u'(c_0)} = \\lambda + \\mu \\cdot \n",
    "\\left [ {1-\\frac{1-q}{1-p}} \\right ]  \n",
    "$$"
   ]
  },
  {
   "cell_type": "markdown",
   "metadata": {
    "slideshow": {
     "slide_type": "skip"
    }
   },
   "source": [
    "TODO:  \n",
    " - Functions to solve the two outcome cases (closed form possible, substitute IC into binding PC; or 2 FOC plus IC plus PC for $c_0, c_1, \\lambda  \\text{ and } \\mu$).\n",
    " - Function to solve numerically for N outcomes (N FOCs and one participation constraint).\n",
    " - discuss how sensitive to distribution"
   ]
  },
  {
   "cell_type": "markdown",
   "metadata": {
    "slideshow": {
     "slide_type": "slide"
    }
   },
   "source": [
    "Holmstrom's sufficient statistic"
   ]
  },
  {
   "cell_type": "markdown",
   "metadata": {
    "slideshow": {
     "slide_type": "fragment"
    }
   },
   "source": [
    "$$\\frac{1}{u'(c)} = \\lambda + \\mu \\cdot \n",
    "\\left [ {1-\\frac{f(x,y,e_L)}{f(x,y,e_H)}} \\right ]  \\text{ }\\forall i\n",
    "$$"
   ]
  },
  {
   "cell_type": "code",
   "execution_count": 11,
   "metadata": {},
   "outputs": [
    {
     "data": {
      "text/html": [
       "<script src=\"https://cdn.rawgit.com/parente/4c3e6936d0d7a46fd071/raw/65b816fb9bdd3c28b4ddf3af602bfd6015486383/code_toggle.js\"></script>\n"
      ],
      "text/plain": [
       "<IPython.core.display.HTML object>"
      ]
     },
     "metadata": {},
     "output_type": "display_data"
    }
   ],
   "source": [
    "%%html\n",
    "<script src=\"https://cdn.rawgit.com/parente/4c3e6936d0d7a46fd071/raw/65b816fb9bdd3c28b4ddf3af602bfd6015486383/code_toggle.js\"></script>"
   ]
  }
 ],
 "metadata": {
  "anaconda-cloud": {},
  "hide_input": false,
  "kernel_info": {
   "name": "python3"
  },
  "kernelspec": {
   "display_name": "Python 3",
   "language": "python",
   "name": "python3"
  },
  "language_info": {
   "codemirror_mode": {
    "name": "ipython",
    "version": 3
   },
   "file_extension": ".py",
   "mimetype": "text/x-python",
   "name": "python",
   "nbconvert_exporter": "python",
   "pygments_lexer": "ipython3",
   "version": "3.7.3"
  },
  "nteract": {
   "version": "0.2.0"
  },
  "varInspector": {
   "cols": {
    "lenName": 16,
    "lenType": 16,
    "lenVar": 40
   },
   "kernels_config": {
    "python": {
     "delete_cmd_postfix": "",
     "delete_cmd_prefix": "del ",
     "library": "var_list.py",
     "varRefreshCmd": "print(var_dic_list())"
    },
    "r": {
     "delete_cmd_postfix": ") ",
     "delete_cmd_prefix": "rm(",
     "library": "var_list.r",
     "varRefreshCmd": "cat(var_dic_list()) "
    }
   },
   "types_to_exclude": [
    "module",
    "function",
    "builtin_function_or_method",
    "instance",
    "_Feature"
   ],
   "window_display": false
  },
  "widgets": {
   "application/vnd.jupyter.widget-state+json": {
    "state": {
     "039bccc2de404a6f8795a8be1ccb56ff": {
      "model_module": "@jupyter-widgets/base",
      "model_module_version": "1.2.0",
      "model_name": "LayoutModel",
      "state": {}
     },
     "12eb3b3bfd6a486ebda66923ab2bf507": {
      "model_module": "@jupyter-widgets/controls",
      "model_module_version": "1.5.0",
      "model_name": "FloatSliderModel",
      "state": {
       "description": "q",
       "layout": "IPY_MODEL_039bccc2de404a6f8795a8be1ccb56ff",
       "max": 0.5,
       "min": 0.1,
       "step": 0.01,
       "style": "IPY_MODEL_82a56fd02ffe4ade99172a503970ce26",
       "value": 0.30000000000000004
      }
     },
     "5874ed0cb9a947c4b5983a6c603bdda0": {
      "model_module": "@jupyter-widgets/base",
      "model_module_version": "1.2.0",
      "model_name": "LayoutModel",
      "state": {}
     },
     "5c254ed99e854682aba84532f3debfb2": {
      "model_module": "@jupyter-widgets/controls",
      "model_module_version": "1.5.0",
      "model_name": "CheckboxModel",
      "state": {
       "description": "ic",
       "disabled": false,
       "layout": "IPY_MODEL_d742972f713b4f809941580b1d2521cd",
       "style": "IPY_MODEL_887e71e8935042d9840ca7def24e9e44",
       "value": false
      }
     },
     "73770384a0e64665ac5e0cf717a93f63": {
      "model_module": "@jupyter-widgets/controls",
      "model_module_version": "1.5.0",
      "model_name": "SliderStyleModel",
      "state": {
       "description_width": ""
      }
     },
     "7e19b303b6c74ec99a5ad583e7c71956": {
      "model_module": "@jupyter-widgets/controls",
      "model_module_version": "1.5.0",
      "model_name": "VBoxModel",
      "state": {
       "_dom_classes": [
        "widget-interact"
       ],
       "children": [
        "IPY_MODEL_12eb3b3bfd6a486ebda66923ab2bf507",
        "IPY_MODEL_f6f59346edf345e98c165f8819783ae4",
        "IPY_MODEL_5c254ed99e854682aba84532f3debfb2",
        "IPY_MODEL_85525712c2cb4ec99e39e212fad8e5c8"
       ],
       "layout": "IPY_MODEL_5874ed0cb9a947c4b5983a6c603bdda0"
      }
     },
     "82a56fd02ffe4ade99172a503970ce26": {
      "model_module": "@jupyter-widgets/controls",
      "model_module_version": "1.5.0",
      "model_name": "SliderStyleModel",
      "state": {
       "description_width": ""
      }
     },
     "85525712c2cb4ec99e39e212fad8e5c8": {
      "model_module": "@jupyter-widgets/output",
      "model_module_version": "1.0.0",
      "model_name": "OutputModel",
      "state": {
       "layout": "IPY_MODEL_ac2ecbd319424ac1800db9a776bb1b6e",
       "outputs": [
        {
         "data": {
          "image/png": "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\n",
          "text/plain": "<Figure size 720x720 with 1 Axes>"
         },
         "metadata": {
          "needs_background": "light"
         },
         "output_type": "display_data"
        }
       ]
      }
     },
     "887e71e8935042d9840ca7def24e9e44": {
      "model_module": "@jupyter-widgets/controls",
      "model_module_version": "1.5.0",
      "model_name": "DescriptionStyleModel",
      "state": {
       "description_width": ""
      }
     },
     "ac2ecbd319424ac1800db9a776bb1b6e": {
      "model_module": "@jupyter-widgets/base",
      "model_module_version": "1.2.0",
      "model_name": "LayoutModel",
      "state": {}
     },
     "b1af253a2c694e07a3509f18c0cf1a8c": {
      "model_module": "@jupyter-widgets/base",
      "model_module_version": "1.2.0",
      "model_name": "LayoutModel",
      "state": {}
     },
     "d742972f713b4f809941580b1d2521cd": {
      "model_module": "@jupyter-widgets/base",
      "model_module_version": "1.2.0",
      "model_name": "LayoutModel",
      "state": {}
     },
     "f6f59346edf345e98c165f8819783ae4": {
      "model_module": "@jupyter-widgets/controls",
      "model_module_version": "1.5.0",
      "model_name": "FloatSliderModel",
      "state": {
       "description": "B",
       "layout": "IPY_MODEL_b1af253a2c694e07a3509f18c0cf1a8c",
       "max": 3,
       "step": 0.1,
       "style": "IPY_MODEL_73770384a0e64665ac5e0cf717a93f63",
       "value": 1
      }
     }
    },
    "version_major": 2,
    "version_minor": 0
   }
  }
 },
 "nbformat": 4,
 "nbformat_minor": 4
}

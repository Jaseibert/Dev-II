{
 "cells": [
  {
   "cell_type": "markdown",
   "metadata": {
    "slideshow": {
     "slide_type": "slide"
    }
   },
   "source": [
    "# Risk Sharing and Moral Hazard"
   ]
  },
  {
   "cell_type": "code",
   "execution_count": 2,
   "metadata": {},
   "outputs": [
    {
     "data": {
      "text/html": [
       "<script>jQuery(function() {if (jQuery(\"body.notebook_app\").length == 0) { jQuery(\".input_area\").toggle(); jQuery(\".prompt\").toggle();}});</script>"
      ]
     },
     "metadata": {},
     "output_type": "display_data"
    }
   ],
   "source": [
    "import IPython.core.display as di\n",
    "di.display_html('<script>jQuery(function() {if (jQuery(\"body.notebook_app\").length == 0) { jQuery(\".input_area\").toggle(); jQuery(\".prompt\").toggle();}});</script>', raw=True)"
   ]
  },
  {
   "cell_type": "code",
   "execution_count": 3,
   "metadata": {
    "slideshow": {
     "slide_type": "skip"
    }
   },
   "outputs": [],
   "source": [
    "%matplotlib inline\n",
    "import numpy as np\n",
    "import matplotlib.pyplot as plt\n",
    "from ipywidgets import interact, fixed"
   ]
  },
  {
   "cell_type": "markdown",
   "metadata": {
    "slideshow": {
     "slide_type": "slide"
    }
   },
   "source": [
    "# Risk-sharing review\n",
    "\n",
    "\n",
    "### A simple employment contract\n",
    "\n",
    "Employer hires worker to perform a task that has a stochastic outcome.  Project can either:\n",
    "- with probability $p$ succeeds to yield $X_s$\n",
    "- with probability $1-p$ fails to yield $X_f < X_S$\n",
    "\n",
    "There are two states of the world lebeled $s$ and $f$.  The expected return from the project is: $E(X|p) = p \\cdot X_s + (1-p) \\cdot X_f $"
   ]
  },
  {
   "cell_type": "markdown",
   "metadata": {
    "slideshow": {
     "slide_type": "subslide"
    }
   },
   "source": [
    "## Example\n",
    "\n",
    "$X_s = 100$, $X_f = 0$,  $p = 0.8$\n",
    "\n",
    "$E(X|p) = 0.8 \\cdot 100 + 0.2 \\cdot 0 = 80 $"
   ]
  },
  {
   "cell_type": "markdown",
   "metadata": {
    "slideshow": {
     "slide_type": "slide"
    }
   },
   "source": [
    "## Risk neutral employer and risk-averse agent\n",
    "\n",
    "Contract design problem: how to allocate claims to stochastic output between:\n",
    "\n",
    "- Principal (Employer):  $(X_s-c_s, X_f-c_f)$ \n",
    "- Agent (worker):  $(c_s, c_f)$\n",
    "\n",
    "The agent maximize the von-Neumann-Morgenstern expected utility:\n",
    "\n",
    "$Eu(c|p) = p u(c_s) + (1-p) u(c_f)$"
   ]
  },
  {
   "cell_type": "markdown",
   "metadata": {
    "slideshow": {
     "slide_type": "slide"
    }
   },
   "source": [
    "### Monopoly Contract design Example \n",
    "\n",
    "\n",
    "$$\\max_{c_s,c_f} \\ \\ E(X|p) - E(c|p)$$\n",
    "\n",
    "$$Eu(c|p) \\ge \\bar u$$\n",
    "\n",
    "Lagrangian:\n",
    "$$\\mathcal{L}(c_s, c_f,\\lambda) =  p \\cdot (X_s-c_s) + (1-p) \\cdot (X_f-c_f) \\\\\n",
    "-\\lambda \\left( \\bar u - p \\cdot  u(c_s) - (1-p) u(c_f) \\right)$$"
   ]
  },
  {
   "cell_type": "markdown",
   "metadata": {
    "slideshow": {
     "slide_type": "slide"
    }
   },
   "source": [
    "#### Monopoly FOC \n",
    "\n",
    "for state-contingent claim in state $s$:  $p \\cdot \\lambda \\cdot u'(c_s)-p =0 $\n",
    "\n",
    "Rearranging for $i=s,f$\n",
    "\n",
    "$$ \\frac{1}{u'(c_s)} = \\lambda  = \\frac{1}{u'(c_f)} $$"
   ]
  },
  {
   "cell_type": "markdown",
   "metadata": {
    "slideshow": {
     "slide_type": "slide"
    }
   },
   "source": [
    "This implies agent should be fully insured:  $c_s = c_f = c^*$"
   ]
  },
  {
   "cell_type": "markdown",
   "metadata": {
    "slideshow": {
     "slide_type": "subslide"
    }
   },
   "source": [
    "substitute $c_s = c_f = c^*$ into agent participation: \n",
    "\n",
    "If for example $u(c) = \\frac{c^{\\alpha}}{\\alpha}$ and $\\alpha=\\frac{1}{2}$ then $2\\sqrt{\\bar c^*} = \\bar u$"
   ]
  },
  {
   "cell_type": "markdown",
   "metadata": {
    "slideshow": {
     "slide_type": "fragment"
    }
   },
   "source": [
    "Monopoly contract pays worker a fixed wage determined by their reservation utility: \n",
    "$c^* = \\left (\\frac{\\bar u}{2} \\right )^2$"
   ]
  },
  {
   "cell_type": "markdown",
   "metadata": {
    "slideshow": {
     "slide_type": "fragment"
    }
   },
   "source": [
    "For example if the worker ran the project without insurance:\n",
    "\n",
    "$\\bar u = 0.8 \\cdot 2 \\sqrt(100) + 0.2 2 \\sqrt(0) = 16$ utils \n",
    "\n",
    "The monopoly insurer offers safe contract: $c_f=c_s=64$\n",
    "\n",
    "Firm then earns $X_s - c_s = 100 - 64 = 36$ or $X_f - c_f = 0 - 64 = -64$\n",
    "\n",
    "For expected return of $0.8 \\cdot 64 + 0.2 (-36) = 44$"
   ]
  },
  {
   "cell_type": "markdown",
   "metadata": {
    "slideshow": {
     "slide_type": "subslide"
    }
   },
   "source": [
    "### Competitive Contract design\n",
    "Employers compete for workers: \n",
    "\n",
    "$$\\max_{c_s, c_f}  p \\cdot  u(c_s) + (1-p) u(c_f)$$\n",
    "\n",
    "subject to then employer participation (zero-profit) constraint:\n",
    "\n",
    "$$p \\cdot (X_s-c_s) + (1-p) \\cdot (X_f-c_f) \\geq 0$$"
   ]
  },
  {
   "cell_type": "markdown",
   "metadata": {
    "slideshow": {
     "slide_type": "subslide"
    }
   },
   "source": [
    "### Competitive Contract design Example \n",
    "\n",
    "$$\\mathcal{L}(c_s, c_f,\\lambda) =  p \\cdot  u(c_s) + (1-p) u(c_f) \\\\\n",
    "+\\lambda \\left( p \\cdot (X_s-c_s) - (1-p) \\cdot (X_f-c_f) \\right)$$\n",
    "\n",
    "Same FOC as above imply:  $c_s = c_f$\n",
    "\n",
    "substitute this now into employer participation to get:   $c_f=c_s = E(X|p)$\n",
    "\n",
    "In our example agent is paid  $c_f=c_s = 80$\n",
    "\n",
    "And firm earns $(X_s-c_s)=100-80 = 20$ and $(X_f-c_f)= 0 - 80 = -80$ for expected return of zero."
   ]
  },
  {
   "cell_type": "markdown",
   "metadata": {
    "slideshow": {
     "slide_type": "subslide"
    }
   },
   "source": [
    "### Competitive financing\n",
    "\n",
    "A financial contract is modeled just like this last example (with a slight rewriting and reinterpretation of the Bank (i.e. the principal's) participation constraint).  \n",
    "\n",
    "Suppose agent has access to the same stochastic project above but can only get it started with lump sum investment $I$.\n",
    "\n",
    "$$\\max_{c_s, c_f}  p \\cdot  u(c_s) + (1-p) u(c_f)$$\n",
    "\n",
    "subject to then employer participation (zero-profit) constraint:\n",
    "\n",
    "$$p \\cdot (X_s-c_s) + (1-p) \\cdot (X_f-c_f) \\geq I(1+r)$$\n",
    "\n",
    "Exactly the problem above only that the participation constraint includes a term to cover the opportunity cost of funding."
   ]
  },
  {
   "cell_type": "markdown",
   "metadata": {
    "slideshow": {
     "slide_type": "subslide"
    }
   },
   "source": [
    "Lagrangian: \n",
    "\n",
    "$$\\mathcal{L}(c_s, c_f,\\lambda) =  p \\cdot  u(c_s) + (1-p) u(c_f) \\\\\n",
    "+\\lambda \\left( I(1+r) - p \\cdot (X_s-c_s) - (1-p) \\cdot (X_f-c_f) \\right)$$\n",
    "\n",
    "FOC again imply contract keeps agent's consumption steady at:  $c_s = c_f = c^*$\n",
    "\n",
    "Bank just breaks even: $E(X|p) - E(c|p) = I(1+r)$"
   ]
  },
  {
   "cell_type": "markdown",
   "metadata": {
    "slideshow": {
     "slide_type": "subslide"
    }
   },
   "source": [
    "**Example:  Suppose loan finance costs $I(1+r) = 70$**\n",
    "\n",
    "$E(c|p) = E(X|p) - I(1+r)$\n",
    "\n",
    "$E(c|p) = 80 - 70 = 10$\n"
   ]
  },
  {
   "cell_type": "markdown",
   "metadata": {
    "slideshow": {
     "slide_type": "fragment"
    }
   },
   "source": [
    "Can think of contract as a loan with state-contingent repayments:\n",
    "\n",
    "$X_s - c_s - I(1+r) = 100 - 10 - 70 = 20$\n",
    "\n",
    "$X_f - c_f - I(1+r) =   0 - 10 - 70 = -80$"
   ]
  },
  {
   "cell_type": "markdown",
   "metadata": {
    "slideshow": {
     "slide_type": "fragment"
    }
   },
   "source": [
    "Bank breaks even: $0.8 \\cdot 20 + 0.2 \\cdot (-80) = 0$"
   ]
  },
  {
   "cell_type": "markdown",
   "metadata": {
    "slideshow": {
     "slide_type": "subslide"
    }
   },
   "source": [
    "Can extend to many states of the world:\n",
    "\n",
    "$$E(X|e) = \\sum_i {X_i \\cdot f(X_i|e)}$$"
   ]
  },
  {
   "cell_type": "code",
   "execution_count": 4,
   "metadata": {
    "slideshow": {
     "slide_type": "skip"
    }
   },
   "outputs": [],
   "source": [
    "alpha = 0.25"
   ]
  },
  {
   "cell_type": "code",
   "execution_count": 5,
   "metadata": {
    "slideshow": {
     "slide_type": "skip"
    }
   },
   "outputs": [],
   "source": [
    "def u(c, alpha=alpha):\n",
    "    return (1/alpha)*c**alpha\n",
    "\n",
    "def E(x,p):\n",
    "    return p*x[1] + (1-p)*x[0]\n",
    "\n",
    "def EU(c, p):\n",
    "    return p*u(c[1]) + (1-p)*u(c[0])\n",
    "\n",
    "def budgetc(c0, p, x):\n",
    "    return E(x,p)/p - ((1-p)/p)*c0\n",
    "\n",
    "def indif(c0, p, ubar):\n",
    "    return (alpha*(ubar-(1-p)*u(c0))/p)**(1/alpha)\n",
    "\n",
    "def IC(c0,p,q,B):\n",
    "    '''incentive compatibility line'''\n",
    "    return (alpha*(u(c0)+B/(p-q)))**(1/alpha)"
   ]
  },
  {
   "cell_type": "code",
   "execution_count": 6,
   "metadata": {
    "slideshow": {
     "slide_type": "skip"
    }
   },
   "outputs": [],
   "source": [
    "def Bopt(p,x):\n",
    "    '''Bank profit maximum'''\n",
    "    return (alpha*EU(x,p))**(1/alpha)\n",
    "\n",
    "def Copt(p,x):\n",
    "    '''Consumer utility maximum'''\n",
    "    return E(x,p)\n",
    "    \n",
    "    "
   ]
  },
  {
   "cell_type": "code",
   "execution_count": 7,
   "metadata": {
    "slideshow": {
     "slide_type": "skip"
    }
   },
   "outputs": [],
   "source": [
    "x = [15,90]\n",
    "p = 0.6"
   ]
  },
  {
   "cell_type": "code",
   "execution_count": 8,
   "metadata": {
    "slideshow": {
     "slide_type": "skip"
    }
   },
   "outputs": [
    {
     "data": {
      "text/plain": [
       "9.797958971132712"
      ]
     },
     "execution_count": 8,
     "metadata": {},
     "output_type": "execute_result"
    }
   ],
   "source": [
    "EU([36,36],p)"
   ]
  },
  {
   "cell_type": "markdown",
   "metadata": {
    "slideshow": {
     "slide_type": "slide"
    }
   },
   "source": [
    "# Moral Hazard or Hidden Actions\n",
    "\n",
    "or Hidden Actions model\n",
    "\n",
    "\n",
    "### Risk sharing vs. incentives\n",
    "\n",
    "Stiglitz (1974), Holmstrom (1979), Grossman and Hart (1983)\n",
    "\n",
    "\n",
    "Agent's private benefit from avoiding diligence or effort is B (extra disutility from high vs. low effort).  \n",
    "\n",
    "Effort is non-contractible and $B$ cannot be observed/seized. Effort-contingent contracts not possible.\n",
    "\n",
    "Only outcone-contingent contracts can be used. "
   ]
  },
  {
   "cell_type": "markdown",
   "metadata": {
    "slideshow": {
     "slide_type": "slide"
    }
   },
   "source": [
    "## Hidden actions\n",
    "\n",
    "Now agent's unobserved (or more to the point non-verifiable) effort levels determines success probability: \n",
    " - High  $e_H$  (probability of success $p$).\n",
    " - Low $e_L$ (probability of success $q$).  \n",
    " - Can no longer offer earlier risk-sharing contract ($c=10$) as cnnot be sure success probability is $p$\n",
    "  \n",
    " Example $q=0.6$ versus $p=0.8$\n",
    "     - E(X|p) - E(c|p) - I(1+r) =  80-10-70 = 0 (bank breaks even)\n",
    "     - E(X|q) - E(c|q) - I(1+r) =  60-10-70 = -20 (bank loses money)"
   ]
  },
  {
   "cell_type": "markdown",
   "metadata": {
    "slideshow": {
     "slide_type": "slide"
    }
   },
   "source": [
    "### On the other hand full-residual claimancy contract imposes too much risk\n",
    " \n",
    " - Full residual claimant when fixed repayment $I(1+r)$\n",
    "     - $c_s = 100-70 = 30$\n",
    "     - $c_f = -70 = -70$\n",
    "     - $0.8 (30) + 0.2(-70) = 24 - 14 = 10$\n",
    "\n",
    "- But this imposes a lot of risk  (actually here not even defined since u(-70) is 'catastrophic')\n",
    " \n",
    "- Need to find balance between risk sharing and incentives"
   ]
  },
  {
   "cell_type": "markdown",
   "metadata": {
    "slideshow": {
     "slide_type": "slide"
    }
   },
   "source": [
    "## Incentive compatibility constraint:\n",
    "\n",
    "$$EU(c|p) \\geq EU(c|q) + B$$\n",
    "\n",
    "In 2 outcome case can be re-arranged to:\n",
    "\n",
    "$$u(c_1) \\geq u(c_0) + \\frac{B}{p-q}$$"
   ]
  },
  {
   "cell_type": "markdown",
   "metadata": {
    "slideshow": {
     "slide_type": "skip"
    }
   },
   "source": [
    "## Interactive indifference curve diagram"
   ]
  },
  {
   "cell_type": "code",
   "execution_count": 9,
   "metadata": {
    "slideshow": {
     "slide_type": "skip"
    }
   },
   "outputs": [],
   "source": [
    "p = 0.5\n",
    "q = 0.4\n",
    "cmax = 100\n",
    "B = 1.5"
   ]
  },
  {
   "cell_type": "code",
   "execution_count": 10,
   "metadata": {
    "slideshow": {
     "slide_type": "skip"
    }
   },
   "outputs": [
    {
     "data": {
      "text/plain": [
       "595.1534438537282"
      ]
     },
     "execution_count": 10,
     "metadata": {},
     "output_type": "execute_result"
    }
   ],
   "source": [
    "IC(2,p,q,B)"
   ]
  },
  {
   "cell_type": "code",
   "execution_count": 11,
   "metadata": {
    "slideshow": {
     "slide_type": "skip"
    }
   },
   "outputs": [],
   "source": [
    "def consume_plot(p,q,B,ic=False):\n",
    "    c0 = np.linspace(0.1,200,num=100)\n",
    "    \n",
    "    #bank optimum\n",
    "    c0e = Bopt(p,x)\n",
    "    c1e = c0e\n",
    "    uebar = EU([c0e,c1e],p)\n",
    "    idfc = indif(c0, p, uebar)\n",
    "    budg = budgetc(c0, p, [c0e,c1e])\n",
    "    \n",
    "    #consumer optimum\n",
    "    c0ee = Copt(p,x)\n",
    "    c1ee = c0ee\n",
    "    uemax = EU([c0ee,c1ee],p)\n",
    "    idfcmax = indif(c0, p, uemax)\n",
    "    zerop = budgetc(c0, p, x)\n",
    "    icline = IC(c0,p,q,B)\n",
    "       \n",
    "    \n",
    "    fig, ax = plt.subplots(figsize=(10,10))\n",
    "    if ic:\n",
    "        ax.plot(c0,icline)\n",
    "    ax.plot(c0, budg, lw=2.5)\n",
    "    ax.plot(c0, zerop, lw=2.5)\n",
    "    ax.plot(c0, idfc, lw=2.5)\n",
    "    #ax.plot(c0, idfcmax, lw=2.5)\n",
    "    ax.plot(c0,c0)\n",
    "    #ax.vlines(c0e,0,c2e, linestyles=\"dashed\")\n",
    "    #ax.hlines(c1e,0,c1e, linestyles=\"dashed\")\n",
    "    ax.plot(c0e,c1e,'ob')\n",
    "    ax.plot(c0ee,c1ee,'ob')\n",
    "    ax.plot(x[0],x[1],'ob')\n",
    "    ax.set_xlim(0, 100)\n",
    "    ax.set_ylim(0, 100)\n",
    "    ax.set_xlabel(r'$c_0$', fontsize=16)\n",
    "    ax.set_ylabel('$c_1$', fontsize=16)\n",
    "    ax.spines['right'].set_visible(False)\n",
    "    ax.spines['top'].set_visible(False)\n",
    "    ax.grid()\n",
    "    plt.show()"
   ]
  },
  {
   "cell_type": "code",
   "execution_count": 12,
   "metadata": {
    "slideshow": {
     "slide_type": "slide"
    }
   },
   "outputs": [
    {
     "data": {
      "application/vnd.jupyter.widget-view+json": {
       "model_id": "a8413d7de9074cb2b00e381faf7412c1",
       "version_major": 2,
       "version_minor": 0
      },
      "text/plain": [
       "interactive(children=(FloatSlider(value=0.30000000000000004, description='q', max=0.5, min=0.1, step=0.01), Fl…"
      ]
     },
     "metadata": {},
     "output_type": "display_data"
    }
   ],
   "source": [
    "interact(consume_plot,p=fixed(0.5),q=(0.1,0.5,0.01),B=(0,3,0.1));"
   ]
  },
  {
   "cell_type": "markdown",
   "metadata": {
    "slideshow": {
     "slide_type": "slide"
    }
   },
   "source": [
    "If we set this up and solve it as a Lagrangean (loosely following Holmstrom, 1979) we get a condition like this:"
   ]
  },
  {
   "cell_type": "markdown",
   "metadata": {
    "slideshow": {
     "slide_type": "fragment"
    }
   },
   "source": [
    "$$\\frac{1}{u'(c_i)} = \\lambda + \\mu \\cdot \n",
    "\\left [ {1-\\frac{f(x_i,e_L)}{f(x_i,e_H)}} \\right ]  \\text{ }\\forall i\n",
    "$$"
   ]
  },
  {
   "cell_type": "markdown",
   "metadata": {
    "slideshow": {
     "slide_type": "subslide"
    }
   },
   "source": [
    "In our two outcome case $p=f(x_1|e_H)$ and $q=f(x_1|e_L)$ and this becomes:\n",
    "\n",
    "$$\\frac{1}{u'(c_1)} = \\lambda + \\mu \\cdot \n",
    "\\left [ {1-\\frac{q}{p}} \\right ]  \n",
    "$$\n",
    "\n",
    "$$\\frac{1}{u'(c_0)} = \\lambda + \\mu \\cdot \n",
    "\\left [ {1-\\frac{1-q}{1-p}} \\right ]  \n",
    "$$"
   ]
  },
  {
   "cell_type": "markdown",
   "metadata": {
    "slideshow": {
     "slide_type": "skip"
    }
   },
   "source": [
    "TODO:  \n",
    " - Functions to solve the two outcome cases (closed form possible, substitute IC into binding PC; or 2 FOC plus IC plus PC for $c_0, c_1, \\lambda  \\text{ and } \\mu$).\n",
    " - Function to solve numerically for N outcomes (N FOCs and one participation constraint).\n",
    " - discuss how sensitive to distribution"
   ]
  },
  {
   "cell_type": "markdown",
   "metadata": {
    "slideshow": {
     "slide_type": "slide"
    }
   },
   "source": [
    "Holmstrom's sufficient statistic"
   ]
  },
  {
   "cell_type": "markdown",
   "metadata": {
    "slideshow": {
     "slide_type": "fragment"
    }
   },
   "source": [
    "$$\\frac{1}{u'(c)} = \\lambda + \\mu \\cdot \n",
    "\\left [ {1-\\frac{f(x,y,e_L)}{f(x,y,e_H)}} \\right ]  \\text{ }\\forall i\n",
    "$$"
   ]
  }
 ],
 "metadata": {
  "anaconda-cloud": {},
  "hide_input": false,
  "kernel_info": {
   "name": "python3"
  },
  "kernelspec": {
   "display_name": "Python 3",
   "language": "python",
   "name": "python3"
  },
  "language_info": {
   "codemirror_mode": {
    "name": "ipython",
    "version": 3
   },
   "file_extension": ".py",
   "mimetype": "text/x-python",
   "name": "python",
   "nbconvert_exporter": "python",
   "pygments_lexer": "ipython3",
   "version": "3.7.3"
  },
  "nteract": {
   "version": "0.2.0"
  },
  "varInspector": {
   "cols": {
    "lenName": 16,
    "lenType": 16,
    "lenVar": 40
   },
   "kernels_config": {
    "python": {
     "delete_cmd_postfix": "",
     "delete_cmd_prefix": "del ",
     "library": "var_list.py",
     "varRefreshCmd": "print(var_dic_list())"
    },
    "r": {
     "delete_cmd_postfix": ") ",
     "delete_cmd_prefix": "rm(",
     "library": "var_list.r",
     "varRefreshCmd": "cat(var_dic_list()) "
    }
   },
   "types_to_exclude": [
    "module",
    "function",
    "builtin_function_or_method",
    "instance",
    "_Feature"
   ],
   "window_display": false
  },
  "widgets": {
   "application/vnd.jupyter.widget-state+json": {
    "state": {
     "13aa8f822d2a4509b3526fc014ef86db": {
      "model_module": "@jupyter-widgets/controls",
      "model_module_version": "1.5.0",
      "model_name": "CheckboxModel",
      "state": {
       "description": "ic",
       "disabled": false,
       "layout": "IPY_MODEL_e4da217339194b8eaa73e8e07090f0bd",
       "style": "IPY_MODEL_3c54ac21d4f5452595a9c63a4076394b",
       "value": true
      }
     },
     "3c54ac21d4f5452595a9c63a4076394b": {
      "model_module": "@jupyter-widgets/controls",
      "model_module_version": "1.5.0",
      "model_name": "DescriptionStyleModel",
      "state": {
       "description_width": ""
      }
     },
     "62d7bd246cf54da7a968f84b0c76e21b": {
      "model_module": "@jupyter-widgets/controls",
      "model_module_version": "1.5.0",
      "model_name": "SliderStyleModel",
      "state": {
       "description_width": ""
      }
     },
     "85d382a6f328428c90f98067a59a5764": {
      "model_module": "@jupyter-widgets/controls",
      "model_module_version": "1.5.0",
      "model_name": "FloatSliderModel",
      "state": {
       "description": "B",
       "layout": "IPY_MODEL_9d77123de73e4f06895d4a025998d940",
       "max": 3,
       "step": 0.1,
       "style": "IPY_MODEL_62d7bd246cf54da7a968f84b0c76e21b",
       "value": 1
      }
     },
     "9d77123de73e4f06895d4a025998d940": {
      "model_module": "@jupyter-widgets/base",
      "model_module_version": "1.2.0",
      "model_name": "LayoutModel",
      "state": {}
     },
     "9d9e380770304a0a952252ba13ae443f": {
      "model_module": "@jupyter-widgets/controls",
      "model_module_version": "1.5.0",
      "model_name": "SliderStyleModel",
      "state": {
       "description_width": ""
      }
     },
     "a8413d7de9074cb2b00e381faf7412c1": {
      "model_module": "@jupyter-widgets/controls",
      "model_module_version": "1.5.0",
      "model_name": "VBoxModel",
      "state": {
       "_dom_classes": [
        "widget-interact"
       ],
       "children": [
        "IPY_MODEL_e165f3484dc84e70aa53760abdf0e7f8",
        "IPY_MODEL_85d382a6f328428c90f98067a59a5764",
        "IPY_MODEL_13aa8f822d2a4509b3526fc014ef86db",
        "IPY_MODEL_a98d9e6476e54b26909a0e60bbaf7a71"
       ],
       "layout": "IPY_MODEL_bb3f85b72e7540aeab51f31ef9826c82"
      }
     },
     "a98d9e6476e54b26909a0e60bbaf7a71": {
      "model_module": "@jupyter-widgets/output",
      "model_module_version": "1.0.0",
      "model_name": "OutputModel",
      "state": {
       "layout": "IPY_MODEL_ab419f5f654243c2b28760d5d69549a3",
       "outputs": [
        {
         "data": {
          "image/png": "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\n",
          "text/plain": "<Figure size 720x720 with 1 Axes>"
         },
         "metadata": {
          "needs_background": "light"
         },
         "output_type": "display_data"
        }
       ]
      }
     },
     "ab419f5f654243c2b28760d5d69549a3": {
      "model_module": "@jupyter-widgets/base",
      "model_module_version": "1.2.0",
      "model_name": "LayoutModel",
      "state": {}
     },
     "bb3f85b72e7540aeab51f31ef9826c82": {
      "model_module": "@jupyter-widgets/base",
      "model_module_version": "1.2.0",
      "model_name": "LayoutModel",
      "state": {}
     },
     "c9c73649dc754d298c3ca6f0a28ba49d": {
      "model_module": "@jupyter-widgets/base",
      "model_module_version": "1.2.0",
      "model_name": "LayoutModel",
      "state": {}
     },
     "e165f3484dc84e70aa53760abdf0e7f8": {
      "model_module": "@jupyter-widgets/controls",
      "model_module_version": "1.5.0",
      "model_name": "FloatSliderModel",
      "state": {
       "description": "q",
       "layout": "IPY_MODEL_c9c73649dc754d298c3ca6f0a28ba49d",
       "max": 0.5,
       "min": 0.1,
       "step": 0.01,
       "style": "IPY_MODEL_9d9e380770304a0a952252ba13ae443f",
       "value": 0.30000000000000004
      }
     },
     "e4da217339194b8eaa73e8e07090f0bd": {
      "model_module": "@jupyter-widgets/base",
      "model_module_version": "1.2.0",
      "model_name": "LayoutModel",
      "state": {}
     }
    },
    "version_major": 2,
    "version_minor": 0
   }
  }
 },
 "nbformat": 4,
 "nbformat_minor": 4
}

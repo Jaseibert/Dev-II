{
 "cells": [
  {
   "cell_type": "markdown",
   "metadata": {},
   "source": [
    "# Structural Change\n",
    "**via very simple models** \n",
    "\n",
    "This might be for a notebook or a HW on structural change.\n",
    "Largely based on Matsuyama, Kiminori ([Structural Change](https://drive.google.com/open?id=1ARoSu2iEJQE-odRwSOaum3a7_aQv20kf) entry in New Palgrave)"
   ]
  },
  {
   "cell_type": "code",
   "execution_count": 1,
   "metadata": {},
   "outputs": [],
   "source": [
    "import numpy as np\n",
    "import matplotlib.pyplot as plt\n",
    "from ipywidgets import interact, fixed"
   ]
  },
  {
   "cell_type": "code",
   "execution_count": 2,
   "metadata": {},
   "outputs": [],
   "source": [
    "def F(L, A, alp=1/2):\n",
    "    return A*L**alp"
   ]
  },
  {
   "cell_type": "code",
   "execution_count": 3,
   "metadata": {},
   "outputs": [],
   "source": [
    "def FL(L,A, alp=1/2):\n",
    "    return alp*A*L**(alp-1)\n",
    "\n",
    "def APL(L,A, alp=1/2):\n",
    "    return A*L**(alp-1)"
   ]
  },
  {
   "cell_type": "code",
   "execution_count": 4,
   "metadata": {},
   "outputs": [],
   "source": [
    "def LE(A1=1,A2=1,p=1,alp=1/2):\n",
    "    lam = ((p*A2)/A1)**(1/(1-alp))\n",
    "    return 1/(1+lam)"
   ]
  },
  {
   "cell_type": "code",
   "execution_count": 5,
   "metadata": {},
   "outputs": [],
   "source": [
    "la = np.linspace(0.01,0.999,50)"
   ]
  },
  {
   "cell_type": "code",
   "execution_count": 6,
   "metadata": {},
   "outputs": [],
   "source": [
    "def plotsc(A1, A2, p_exog = True):\n",
    "    plt.figure(figsize=(10,6))\n",
    "    if p_exog:\n",
    "        leq = LE(A1,A2)\n",
    "        weq = FL(leq,A1)\n",
    "    else:\n",
    "        pass\n",
    "    \n",
    "    plt.plot(la, FL(la, A1))\n",
    "    plt.plot(la, APL(la, A1))\n",
    "    plt.plot(la, FL(1-la, A2))\n",
    "    plt.xlabel(r'$L_a$', fontsize=14)\n",
    "    plt.scatter(leq, weq)   \n",
    "    plt.grid()\n",
    "    plt.vlines(leq, ymin=0, ymax=weq, linestyle =\":\")\n",
    "    plt.hlines(weq,xmin=0, xmax=1, linestyle =\":\")\n",
    "    plt.xlim(0,1)\n",
    "    plt.ylim(0,3);"
   ]
  },
  {
   "cell_type": "code",
   "execution_count": 7,
   "metadata": {},
   "outputs": [
    {
     "data": {
      "image/png": "[encoded data removed]",
      "text/plain": [
       "<Figure size 720x432 with 1 Axes>"
      ]
     },
     "metadata": {
      "needs_background": "light"
     },
     "output_type": "display_data"
    }
   ],
   "source": [
    "plotsc(A1=1,A2=1)"
   ]
  },
  {
   "cell_type": "code",
   "execution_count": null,
   "metadata": {},
   "outputs": [],
   "source": []
  },
  {
   "cell_type": "code",
   "execution_count": 8,
   "metadata": {},
   "outputs": [],
   "source": [
    "def U(c1, c2, g, b):\n",
    "    return b*np.log(c1-g) + np.log(c2)"
   ]
  },
  {
   "cell_type": "code",
   "execution_count": 9,
   "metadata": {},
   "outputs": [
    {
     "data": {
      "application/vnd.jupyter.widget-view+json": {
       "model_id": "36c58138fa3443bcaa5b1fcbf2245d97",
       "version_major": 2,
       "version_minor": 0
      },
      "text/plain": [
       "interactive(children=(FloatSlider(value=1.2000000000000002, description='A1', max=2.0, min=0.5), FloatSlider(v…"
      ]
     },
     "metadata": {},
     "output_type": "display_data"
    }
   ],
   "source": [
    "interact(plotsc, A1=(0.5,2,0.1),A2=(0.5,2,0.1));"
   ]
  },
  {
   "cell_type": "code",
   "execution_count": null,
   "metadata": {},
   "outputs": [],
   "source": []
  },
  {
   "cell_type": "markdown",
   "metadata": {},
   "source": [
    "### Exogenous price model\n",
    "Suppose preferences are now \n",
    "\n",
    "$$\n",
    "U(C_1, C_2) = C_1 + p+c_2\n",
    "$$\n",
    "\n",
    "In other words the relative price $p$ is set by world prices and the objective is to maximize income at world prices (country just follows its comparative advantage).\n",
    "\n",
    "Now $L_a$ increases with $\\frac{A_1}{A_2}$ so faster relative productivity growth in manufacturing induces more workers to abandon the traditional sector. This is similar to Lewis (1954) and Hansen and Prescott (2002)."
   ]
  },
  {
   "cell_type": "markdown",
   "metadata": {},
   "source": [
    "In an extreme example... $f$ is the same in both sectors\n",
    "\n",
    "$$\n",
    "A_1 \\cdot F_a^\\prime(L_a) = p \\cdot A_2 \\cdot F_m^\\prime (1-L_a)\n",
    "$$"
   ]
  },
  {
   "cell_type": "markdown",
   "metadata": {},
   "source": [
    "when $F(L) = A\\cdot L^{\\alpha}$ then $F^\\prime(L) = \\alpha L^{\\alpha-1}$"
   ]
  },
  {
   "cell_type": "markdown",
   "metadata": {},
   "source": [
    "$$ \n",
    "p \\cdot \\frac{F_m^\\prime (1-L_a)}{F_a^\\prime(L_a)} = \\frac{A_1}{A_2}                 \n",
    "$$\n",
    "\n",
    "which simplifies to "
   ]
  },
  {
   "cell_type": "markdown",
   "metadata": {},
   "source": [
    "$$ \n",
    " (1-L_a) = L_a \\Lambda   \\\\\n",
    " \\text{where } \\Lambda = \\left ( \\frac{p A_2}{A_1} \\right )^\\frac{1}{1-\\alpha} \n",
    "$$\n",
    "\n",
    "\n",
    "\n",
    "Allowing us to solve for:"
   ]
  },
  {
   "cell_type": "markdown",
   "metadata": {},
   "source": [
    "$$ \n",
    "L_a = \\frac{1}{1+\\Lambda}\n",
    "$$"
   ]
  },
  {
   "cell_type": "markdown",
   "metadata": {},
   "source": [
    "$L_a^*$ is decreasing in $p$ and $A_m/A_a$: increases in the relative price or productivity of manufacturing draws labor out of agriculture."
   ]
  },
  {
   "cell_type": "markdown",
   "metadata": {},
   "source": [
    "## Endogenous Price and Engels's Law"
   ]
  },
  {
   "cell_type": "markdown",
   "metadata": {},
   "source": [
    "Consumer demand\n",
    "\n",
    "$$\n",
    "U(C_1, C_2) = \\beta \\log (C_1 - \\gamma) + \\log (C_2)\n",
    "$$\n",
    "\n",
    "In the closed economy equilibrium the marginal products of labor equalize\n",
    "$$\n",
    "A_a \\cdot F_a^\\prime(L_a) = p \\cdot A_m \\cdot F_m^\\prime (1-L_a)\n",
    "$$\n",
    "\n",
    "where $p$ is the relative price of good 2.  "
   ]
  },
  {
   "cell_type": "markdown",
   "metadata": {},
   "source": [
    "Consumer optimum at:\n",
    "$$\n",
    "\\frac{MU_m}{MU_a} = \\frac{C_a-\\gamma}{\\beta \\cdot C_m}  = p\n",
    "$$"
   ]
  },
  {
   "cell_type": "markdown",
   "metadata": {},
   "source": [
    "Hence consumer demand will satisfy:\n",
    "$$\n",
    "C_a = \\gamma + \\beta \\cdot p \\cdot C_m\n",
    "$$"
   ]
  },
  {
   "cell_type": "markdown",
   "metadata": {},
   "source": [
    "Hence\n",
    "\n",
    "$$\n",
    "A_a \\cdot F_a(L_a) = \\gamma + \\beta \\cdot p \\cdot A_m \\cdot F_m(1-L_a)\n",
    "$$"
   ]
  },
  {
   "cell_type": "markdown",
   "metadata": {},
   "source": [
    "Substituting in from earlier condition for efficiency in production (i.e. using $p \\frac{A_m}{A_a} = \\frac{F_a^\\prime(L_a)}{F_m^\\prime(1-L_a)}$)\n",
    "\n",
    "$$\n",
    "F_a(L_a) - \\beta F_m(1-L_a) \\frac{F_a^\\prime (L_a)}{F_m^\\prime (1-L_a)} = \\frac{\\gamma}{A_a}\n",
    "$$"
   ]
  },
  {
   "cell_type": "markdown",
   "metadata": {},
   "source": [
    "This implicitly defines $L_a$ as a decreasing function of $A_a$ \n",
    "\n",
    "Hence as $A_a$ increases agriculture declines.. Engel's Law.\n",
    "\n",
    "Now productivity gains in agriculture \"push\" workers out of agriculture."
   ]
  },
  {
   "cell_type": "markdown",
   "metadata": {},
   "source": [
    "Visually we could plot $C_m$ vs $C_a$ with the latter on the vertical.  Straight line income expansion path starting from $\\gamma$ intercept on vertical.  Increases in $A_a$ push out PPF but in way that $L_a$ falls..."
   ]
  },
  {
   "cell_type": "markdown",
   "metadata": {},
   "source": [
    "#### incomplete"
   ]
  },
  {
   "cell_type": "markdown",
   "metadata": {},
   "source": [
    "Note that for our production function $F^\\prime(L_a) = \\alpha \\frac{F(L_a)}{L_a}$ and hence $\\frac{F_a^\\prime (L_a)}{F_m^\\prime (1-L_a)} =\\frac{F_a(L_a)}{F_m(1-L_a)} \\frac{1-L_a}{L_a}$"
   ]
  },
  {
   "cell_type": "markdown",
   "metadata": {},
   "source": [
    "$$\n",
    "F_a(L_a) \\cdot \\left ( 1- \\beta \\frac{(1-L_a)}{L_a} \\right ) = \\frac{\\gamma}{A_a}\n",
    "$$"
   ]
  },
  {
   "cell_type": "markdown",
   "metadata": {},
   "source": [
    "Note $A_m$ seems to drop out!?"
   ]
  },
  {
   "cell_type": "markdown",
   "metadata": {},
   "source": [
    "A different view is that productivity gains in industry 'pull' the workers out of agriculture."
   ]
  },
  {
   "cell_type": "code",
   "execution_count": null,
   "metadata": {},
   "outputs": [],
   "source": []
  }
 ],
 "metadata": {
  "kernelspec": {
   "display_name": "Python 3",
   "language": "python",
   "name": "python3"
  },
  "language_info": {
   "codemirror_mode": {
    "name": "ipython",
    "version": 3
   },
   "file_extension": ".py",
   "mimetype": "text/x-python",
   "name": "python",
   "nbconvert_exporter": "python",
   "pygments_lexer": "ipython3",
   "version": "3.7.3"
  },
  "widgets": {
   "application/vnd.jupyter.widget-state+json": {
    "state": {
     "01fc8ea60f0540709264bb70c58a3c07": {
      "model_module": "@jupyter-widgets/controls",
      "model_module_version": "1.5.0",
      "model_name": "SliderStyleModel",
      "state": {
       "description_width": ""
      }
     },
     "170490bbfac242208af1826e8ed6917e": {
      "model_module": "@jupyter-widgets/controls",
      "model_module_version": "1.5.0",
      "model_name": "FloatSliderModel",
      "state": {
       "description": "A2",
       "layout": "IPY_MODEL_4ae1a52809e344638ac22ea14f05f242",
       "max": 2,
       "min": 0.5,
       "step": 0.1,
       "style": "IPY_MODEL_01fc8ea60f0540709264bb70c58a3c07",
       "value": 1.2
      }
     },
     "22509d5c3ce74d90a0388428bff168e3": {
      "model_module": "@jupyter-widgets/base",
      "model_module_version": "1.2.0",
      "model_name": "LayoutModel",
      "state": {}
     },
     "2cd53b969d5d420daff463c14d2787c1": {
      "model_module": "@jupyter-widgets/base",
      "model_module_version": "1.2.0",
      "model_name": "LayoutModel",
      "state": {}
     },
     "2e4813181d0d4982a170d870fd1bb652": {
      "model_module": "@jupyter-widgets/output",
      "model_module_version": "1.0.0",
      "model_name": "OutputModel",
      "state": {
       "layout": "IPY_MODEL_5280e993b48543d7ae9f01f1c63e4e7a",
       "outputs": [
        {
         "data": {
          "image/png": "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\n",
          "text/plain": "<Figure size 720x432 with 1 Axes>"
         },
         "metadata": {
          "needs_background": "light"
         },
         "output_type": "display_data"
        }
       ]
      }
     },
     "36c58138fa3443bcaa5b1fcbf2245d97": {
      "model_module": "@jupyter-widgets/controls",
      "model_module_version": "1.5.0",
      "model_name": "VBoxModel",
      "state": {
       "_dom_classes": [
        "widget-interact"
       ],
       "children": [
        "IPY_MODEL_a992c61d01e449d682daac04396455d1",
        "IPY_MODEL_170490bbfac242208af1826e8ed6917e",
        "IPY_MODEL_da49d5e559a04ffc801dafcf6c2999f2",
        "IPY_MODEL_2e4813181d0d4982a170d870fd1bb652"
       ],
       "layout": "IPY_MODEL_22509d5c3ce74d90a0388428bff168e3"
      }
     },
     "4ae1a52809e344638ac22ea14f05f242": {
      "model_module": "@jupyter-widgets/base",
      "model_module_version": "1.2.0",
      "model_name": "LayoutModel",
      "state": {}
     },
     "5280e993b48543d7ae9f01f1c63e4e7a": {
      "model_module": "@jupyter-widgets/base",
      "model_module_version": "1.2.0",
      "model_name": "LayoutModel",
      "state": {}
     },
     "594158af885240baa02eef2fa957aafc": {
      "model_module": "@jupyter-widgets/controls",
      "model_module_version": "1.5.0",
      "model_name": "DescriptionStyleModel",
      "state": {
       "description_width": ""
      }
     },
     "5c715376ff5d423985e1f7ff79b006b6": {
      "model_module": "@jupyter-widgets/base",
      "model_module_version": "1.2.0",
      "model_name": "LayoutModel",
      "state": {}
     },
     "a992c61d01e449d682daac04396455d1": {
      "model_module": "@jupyter-widgets/controls",
      "model_module_version": "1.5.0",
      "model_name": "FloatSliderModel",
      "state": {
       "description": "A1",
       "layout": "IPY_MODEL_5c715376ff5d423985e1f7ff79b006b6",
       "max": 2,
       "min": 0.5,
       "step": 0.1,
       "style": "IPY_MODEL_f41296ad2f6141089d55b891c7349560",
       "value": 1
      }
     },
     "da49d5e559a04ffc801dafcf6c2999f2": {
      "model_module": "@jupyter-widgets/controls",
      "model_module_version": "1.5.0",
      "model_name": "CheckboxModel",
      "state": {
       "description": "p_exog",
       "disabled": false,
       "layout": "IPY_MODEL_2cd53b969d5d420daff463c14d2787c1",
       "style": "IPY_MODEL_594158af885240baa02eef2fa957aafc",
       "value": true
      }
     },
     "f41296ad2f6141089d55b891c7349560": {
      "model_module": "@jupyter-widgets/controls",
      "model_module_version": "1.5.0",
      "model_name": "SliderStyleModel",
      "state": {
       "description_width": ""
      }
     }
    },
    "version_major": 2,
    "version_minor": 0
   }
  }
 },
 "nbformat": 4,
 "nbformat_minor": 4
}

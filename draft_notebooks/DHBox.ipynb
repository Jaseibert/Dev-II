{
 "cells": [
  {
   "cell_type": "markdown",
   "metadata": {},
   "source": [
    "## DHBox to run notebooks interactively\n",
    "### A no setup required on your computer"
   ]
  },
  {
   "cell_type": "code",
   "execution_count": 2,
   "metadata": {
    "collapsed": false
   },
   "outputs": [
    {
     "data": {
      "text/html": [
       "<img src=\"http://dhbox.org/static/images/dhbox_shell.png\"/>"
      ],
      "text/plain": [
       "<IPython.core.display.Image object>"
      ]
     },
     "metadata": {},
     "output_type": "display_data"
    }
   ],
   "source": [
    "from IPython.display import Image, display\n",
    "display(Image(url='http://dhbox.org/static/images/dhbox_shell.png'))"
   ]
  },
  {
   "cell_type": "markdown",
   "metadata": {},
   "source": [
    "You can run jupyter notebooks on your own computer. There are also ways to run them on a cloud service. The Graduate Center's [DHBox](http://dhbox.org/) cloud service is one available option, and I have setup up a shared computing environment for the members of our class to share.  "
   ]
  },
  {
   "cell_type": "markdown",
   "metadata": {},
   "source": [
    "## Our Econ 842 course account"
   ]
  },
  {
   "cell_type": "markdown",
   "metadata": {},
   "source": [
    "Our notebooks run not just using the python programming language but a collection of python libraries.  That means that to run a particular notebook you want to have already created and 'environment' where you've pre-installed all the python libraries that will need to be imported. For example our notebooks mak use of python libraries such as numpy (for arrays and matrices), pandas (for data munging and analysis), [matplotlib](http://matplotlib.org/), [seaborn](http://stanford.edu/~mwaskom/software/seaborn/) or [bokeh](http://bokeh.pydata.org/en/latest/) (plotting libraries), etc.\n",
    "\n",
    "It is actually not so complicated to install libraries on your own computer using Anaconda as it will install practically everything from the 'scientific stack' that you might need with one click.  But it's nice to have a cloud option where there is nothing for you to do other than to just browse to the notebook you want and start working. \n",
    "\n",
    "I have setup a shared course account with the right environment to get working.  To access that shared account:"
   ]
  },
  {
   "cell_type": "markdown",
   "metadata": {},
   "source": [
    "1.  Navigate to [http://dhbox.org/](http://dhbox.org/)\n",
    "2.  On the top right of the screen click on 'Log in'\n",
    "3.  at 'Username:' enter the account name ```devtwo```\n",
    "4.  at the password prompt enter the password I will distribute via email.\n",
    "5.  Click on '`jupyter notebooks``` from your list of options (enter the password again when prompted).\n",
    "\n",
    "If all went well you'll now be in a file browser environment.  I will clone the github repository to this account regularly so that you will be able to navigate to the notebooks folder, click on one of the notebook titles, and then open and run that notebook from your browser window.\n",
    "\n",
    "\n"
   ]
  },
  {
   "cell_type": "markdown",
   "metadata": {},
   "source": [
    "#### User folders and/or user accounts\n",
    "\n",
    "The above procedure should work, but since we are all sharing the same account any changes to a notebook by one user will be seen by others.   To avoid this, there are two alternatives:\n",
    "\n",
    "1.  create student subdirectories with their own copy of the notebooks (password protected if you like).  You can then each modify and add notebooks as you please without conflicts.\n",
    "\n",
    "2. Rather than login with the class account at step 1 above, create your own semester-long account.  If you then clone the github repository and install the python libraries you need (I can provide instructions) you'll be working in your own private environment.  "
   ]
  },
  {
   "cell_type": "markdown",
   "metadata": {},
   "source": [
    "## Jupyter, data science and other cloud services\n",
    "\n",
    "Jupyter notebooks are becoming more popular in many academic disciplines (widespread in places such as astronomy, more slowly in others like Economics), in quantitative finance, and are widely used by data scientists.  The jupyter notebook is by design meant to be a platform-independent interface running in a browser, and therefore just the front-end for whatever computing 'kernel' (e.g. python, MATLAB, Stata) you might care to use which in turn can run on your hardware of choice.  The nice thing about this is it means one can prototype and test models on one's own computer but then if and when you need to amp up the computing and process a billion datapoints you can easily switch to using a large cluster of fast parallel processors and maybe process truly 'big data.' It also means you can collaborate on a shared notebook hosted and perhaps run on a cloud service, such as DHBox.\n",
    "\n",
    "It's getting easier and easier to run a 'virtual machine' or 'image' using a cloud service and universities and research groups provide such services such as DHBox.  If you search you will find that all manner of services that allow you to setup jupyter notebook environments in the cloud, free for low intensity use and then variable in pricing if you plan to use large computing power. Some require some setup, others are designed to put you right into a jupyter environment. A very partial list would include Continuum (see its [Wakari](https://wakari.io/) service), [SageMath](), Amazon Cloud Services, Google Cloud Platform (see their [datalab](https://cloud.google.com/datalab/)), Domino Data Lab and others. \n",
    "\n",
    "A nice article explaining how the University of Washington's Institute for Health Metrics and Evaluation with funding from the Bill and Melinda Gates Foundation [uses jupyter notebooks](http://www.galvanize.com/blog/bill-and-melinda-gates-foundation-saves-lives-with-python/#.VrbX2VgrKUl) on practically all its projects."
   ]
  },
  {
   "cell_type": "markdown",
   "metadata": {},
   "source": [
    "## Running on your own computer\n",
    "The best way to use jupyter notebooks interactively is to install and run a jupyter server on your own computer using Continuum Analytic's open-source [Anaconda distribution](https://www.continuum.io/downloads).  I already described how to do this in the earlier [jupyter_notebooks](jupyter_notebooks.ipynb) guide.  John Stachurski has written a great [guide](http://quant-econ.net/py/getting_started.html#first-steps) to getting you started using scientific python for economics."
   ]
  }
 ],
 "metadata": {
  "kernelspec": {
   "display_name": "Python 3",
   "language": "python",
   "name": "python3"
  },
  "language_info": {
   "codemirror_mode": {
    "name": "ipython",
    "version": 3
   },
   "file_extension": ".py",
   "mimetype": "text/x-python",
   "name": "python",
   "nbconvert_exporter": "python",
   "pygments_lexer": "ipython3",
   "version": "3.4.4"
  }
 },
 "nbformat": 4,
 "nbformat_minor": 0
}
